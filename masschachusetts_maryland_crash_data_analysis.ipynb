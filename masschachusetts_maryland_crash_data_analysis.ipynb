{
 "cells": [
  {
   "cell_type": "markdown",
   "id": "16321ea0",
   "metadata": {},
   "source": [
    "# Name: Margaret Nguyen\n",
    "\n",
    "# Data Analyzing: Maryland and Massachusetts Crash Data\n",
    "\n",
    "Assignment: Get crash data from present day back to 2011 for Maryland and Massachusetts try to figure out a way to organize the data by municipality so that we can merge it with county subdivision data from the ACS 5 year estimates.\n",
    "- Massachusetts :https://apps.impact.dot.state.ma.us/cdp/home\n",
    "click on data extraction and search crashes they should come up by year. \n",
    "- Maryland:https://mdsp.maryland.gov/Pages/Dashboards/CrashDataDownload.asp"
   ]
  },
  {
   "cell_type": "code",
   "execution_count": null,
   "id": "c03780dc",
   "metadata": {},
   "outputs": [],
   "source": []
  }
 ],
 "metadata": {
  "kernelspec": {
   "display_name": "Python 3 (ipykernel)",
   "language": "python",
   "name": "python3"
  },
  "language_info": {
   "codemirror_mode": {
    "name": "ipython",
    "version": 3
   },
   "file_extension": ".py",
   "mimetype": "text/x-python",
   "name": "python",
   "nbconvert_exporter": "python",
   "pygments_lexer": "ipython3",
   "version": "3.9.13"
  }
 },
 "nbformat": 4,
 "nbformat_minor": 5
}
