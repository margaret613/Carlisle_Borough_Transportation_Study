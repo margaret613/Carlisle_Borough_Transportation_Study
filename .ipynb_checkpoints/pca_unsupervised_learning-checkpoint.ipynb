{
 "cells": [
  {
   "cell_type": "markdown",
   "id": "7e177e29",
   "metadata": {},
   "source": [
    "# Name: Margaret Nguyen\n",
    "\n",
    "# Machine Learning: Principal Component Analysis (PCA)\n",
    "\n",
    "Assignment: Conduct principal component analysis (PCA) on the variables you used to generate the scatter plots from the df_pa_crash and determine how many components would adequately explain the variance in the samples. \n",
    "\n",
    "- Download and install sci kit learn: https://scikit-learn.org/stable/. You should be able to use a pip or Conda install \n",
    "- Video that explains what PCA is: https://www.youtube.com/watch?v=FgakZw6K1QQ\n",
    "- How to use the Scikit learn library: https://scikitlearn.org/stable/modules/generated/sklearn.decomposition.PCA.html#sklearn.decomposition.PCA\n",
    "- This is an Ok tutorial on PCA: https://www.youtube.com/watch?v=8klqIM9UvAc\n",
    "- Caution: There are a lot of other methods used in the demo above you won't need to do a train test split or logistic regression, but you will want to normalize the data. "
   ]
  }
 ],
 "metadata": {
  "kernelspec": {
   "display_name": "Python 3 (ipykernel)",
   "language": "python",
   "name": "python3"
  },
  "language_info": {
   "codemirror_mode": {
    "name": "ipython",
    "version": 3
   },
   "file_extension": ".py",
   "mimetype": "text/x-python",
   "name": "python",
   "nbconvert_exporter": "python",
   "pygments_lexer": "ipython3",
   "version": "3.9.13"
  }
 },
 "nbformat": 4,
 "nbformat_minor": 5
}
