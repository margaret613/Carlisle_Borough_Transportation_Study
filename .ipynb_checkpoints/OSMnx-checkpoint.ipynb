{
 "cells": [
  {
   "cell_type": "markdown",
   "id": "495cf4ec",
   "metadata": {},
   "source": [
    "## OSMnx: Python for Street Networks\n",
    "\n",
    "Check [here](https://github.com/gboeing/osmnx-examples) to see examples of OSMnx."
   ]
  },
  {
   "cell_type": "code",
   "execution_count": 4,
   "id": "88a7f7f3",
   "metadata": {},
   "outputs": [],
   "source": [
    "#pip install osmnx\n",
    "\n",
    "# Import packages\n",
    "import osmnx as ox # v 1.7.0\n",
    "# OSMnx is a Python library that specializes in working with OpenStreetMap (OSM) data to retrieve, analyze, \n",
    "# and visualize street networks and infrastructure.\n",
    "\n",
    "import networkx as nx \n",
    "# NetworkX is a Python library for working with complex networks, \n",
    "# including graph data structures and algorithms. \n",
    "# It's often used for graph analysis and manipulation."
   ]
  },
  {
   "cell_type": "code",
   "execution_count": null,
   "id": "757a6368",
   "metadata": {},
   "outputs": [],
   "source": []
  }
 ],
 "metadata": {
  "kernelspec": {
   "display_name": "Python 3 (ipykernel)",
   "language": "python",
   "name": "python3"
  },
  "language_info": {
   "codemirror_mode": {
    "name": "ipython",
    "version": 3
   },
   "file_extension": ".py",
   "mimetype": "text/x-python",
   "name": "python",
   "nbconvert_exporter": "python",
   "pygments_lexer": "ipython3",
   "version": "3.9.13"
  }
 },
 "nbformat": 4,
 "nbformat_minor": 5
}
