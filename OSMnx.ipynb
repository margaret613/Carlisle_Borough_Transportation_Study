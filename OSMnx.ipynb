{
 "cells": [
  {
   "cell_type": "markdown",
   "id": "18c69c29",
   "metadata": {},
   "source": [
    "## OSMnx: Python for Street Networks\n",
    "\n",
    "Check [here](https://github.com/gboeing/osmnx-examples) to see examples of OSMnx."
   ]
  },
  {
   "cell_type": "code",
   "execution_count": 6,
   "id": "eb397c76",
   "metadata": {},
   "outputs": [
    {
     "data": {
      "text/plain": [
       "'1.7.0'"
      ]
     },
     "execution_count": 6,
     "metadata": {},
     "output_type": "execute_result"
    }
   ],
   "source": [
    "# Import packages\n",
    "\n",
    "# OSMnx is a Python library that specializes in working with OpenStreetMap (OSM) data to retrieve, analyze, \n",
    "# and visualize street networks and infrastructure.\n",
    "import osmnx as ox # v 1.7.0\n",
    "\n",
    "# NetworkX is a Python library for working with complex networks, \n",
    "# including graph data structures and algorithms. \n",
    "# It's often used for graph analysis and manipulation.\n",
    "import networkx as nx \n",
    "\n",
    "# Display any generated plots or visualizations directly in the notebook interface\n",
    "%matplotlib inline\n",
    "\n",
    "# Check the version of the OSMnx library\n",
    "ox.__version__"
   ]
  },
  {
   "cell_type": "code",
   "execution_count": null,
   "id": "8a51c4bb",
   "metadata": {},
   "outputs": [],
   "source": []
  }
 ],
 "metadata": {
  "kernelspec": {
   "display_name": "Python 3 (ipykernel)",
   "language": "python",
   "name": "python3"
  },
  "language_info": {
   "codemirror_mode": {
    "name": "ipython",
    "version": 3
   },
   "file_extension": ".py",
   "mimetype": "text/x-python",
   "name": "python",
   "nbconvert_exporter": "python",
   "pygments_lexer": "ipython3",
   "version": "3.9.13"
  }
 },
 "nbformat": 4,
 "nbformat_minor": 5
}
