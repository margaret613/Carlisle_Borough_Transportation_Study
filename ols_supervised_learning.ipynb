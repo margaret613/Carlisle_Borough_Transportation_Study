{
 "cells": [
  {
   "cell_type": "markdown",
   "id": "6873bcde",
   "metadata": {},
   "source": [
    "# Name: Margaret Nguyen\n",
    "\n",
    "# Machine Learning: Ordinary least squares (OLS)\n",
    "\n",
    "**Assignment: Create an Ordinary Least Squares model with cyclist deaths and injuries per capita as the target variable. Use per capita parameters in the model and employ data from both Massachusetts and Pennsylvania.**"
   ]
  },
  {
   "cell_type": "code",
   "execution_count": 57,
   "id": "bd7158b2",
   "metadata": {},
   "outputs": [],
   "source": [
    "# Import packages\n",
    "import numpy as np # v 1.21.5\n",
    "import sklearn # v 1.0.2\n",
    "import pandas as pd # v 1.4.4\n",
    "import ydata_profiling as pp # v 3.6.6\n",
    "import statsmodels.api as sm # v 0.13.2\n",
    "\n",
    "from sklearn.linear_model import LinearRegression\n",
    "from sklearn.model_selection import train_test_split\n",
    "\n",
    "from sklearn.metrics import mean_absolute_error\n",
    "from sklearn.metrics import mean_squared_error\n",
    "from sklearn.metrics import mean_absolute_percentage_error\n",
    "\n",
    "# Ploting libraries \n",
    "import matplotlib.pyplot as plt # v 3.5.2\n",
    "import seaborn as sns # v 0.11.2\n",
    "\n",
    "%matplotlib inline"
   ]
  },
  {
   "cell_type": "markdown",
   "id": "e2227bb0",
   "metadata": {},
   "source": [
    "## I. df_pa_crash.csv (Pennsylvannia)"
   ]
  },
  {
   "cell_type": "markdown",
   "id": "ca71b80c",
   "metadata": {},
   "source": [
    "### 1. Load and clean data"
   ]
  },
  {
   "cell_type": "code",
   "execution_count": 58,
   "id": "95567659",
   "metadata": {},
   "outputs": [],
   "source": [
    "# Read the csv file \n",
    "df_pa_crash = pd.read_csv('./data/df_pa_crash.csv')\n",
    "\n",
    "# Clean datasets\n",
    "df_pa_crash = df_pa_crash.drop(columns = ['Unnamed: 0'])\n",
    "\n",
    "# Select columns with numeric data types (int or float) using select_dtypes\n",
    "numeric_columns = df_pa_crash.select_dtypes(include=['number'])\n",
    "\n",
    "# Create a new DataFrame with only the numeric columns\n",
    "df_pa_filtered = df_pa_crash[numeric_columns.columns]\n",
    "\n",
    "# Drop unnessary columns\n",
    "df_pa_filtered = df_pa_filtered.drop(['PENN_DOT_MUNI_ID', 'state', 'county', 'county_subdivision', 'LAND_AREA.1', 'PENN_DOT_COUNTY_NUM', 'FEDERAL_EIN_CODE', 'HOME_RULE_YEAR', 'INCORPORATION_YEAR', 'MUNICIPALITY'], axis=1)\n",
    "\n",
    "# Replace NaN values with 0 in the entire DataFrame\n",
    "df_pa_filtered = df_pa_filtered.fillna(0)\n",
    "\n",
    "# Rename BNA Score column to BNA_SCORE column\n",
    "df_pa_filtered.rename(columns={'BNA Score': 'BNA_SCORE'}, inplace=True)\n",
    "\n",
    "# Reset index\n",
    "df_pa_filtered.reset_index(inplace = True, drop = True)"
   ]
  },
  {
   "cell_type": "code",
   "execution_count": 59,
   "id": "131e2bfd",
   "metadata": {},
   "outputs": [],
   "source": [
    "# Define the columns for which you want to calculate per capita values\n",
    "columns_to_convert = [\n",
    "    'LAND_AREA', 'BIKE_TO_WORK_EST', 'BIKE_TO_WORK_MARG',\n",
    "    'WALK_TO_WORK_EST', 'WALK_TO_WORK_MARG', 'DRIVE_SOLO_TO_WORK_EST',\n",
    "    'DRIVE_SOLO_TO_WORK_MARG', 'CARPOOL_TO_WORK_EST',\n",
    "    'CARPOOL_TO_WORK_MARG', 'PUBTRANS_TO_WORK_EST',\n",
    "    'PUBTRANS_TO_WORK_MARG', 'EMPLOYEES_FULL_TIME',\n",
    "    'EMPLOYEES_PART_TIME', 'AUTOMOBILE_COUNT',\n",
    "    'BICYCLE_BY_AUTO_COUNT', 'BICYCLE_DEATH_BY_AUTO_COUNT',\n",
    "    'BICYCLE_SUSP_SERIOUS_INJ_BY_AUTO_COUNT', 'PED_BY_AUTO_COUNT',\n",
    "    'PED_DEATH_BY_AUTO_COUNT', 'PED_SUSP_SERIOUS_INJ_BY_AUTO_COUNT',\n",
    "    'BICYCLE_SOLO_COUNT', 'BICYCLE_DEATH_SOLO_COUNT',\n",
    "    'BICYCLE_SUSP_SERIOUS_INJ_SOLO_COUNT', 'PED_SOLO_COUNT',\n",
    "    'PED_DEATH_SOLO_COUNT', 'PED_SUSP_SERIOUS_INJ_SOLO_COUNT'\n",
    "]\n",
    "\n",
    "# Create new columns with \"_PER_CAPITA\" suffix by dividing each column by 'POPULATION'\n",
    "for column in columns_to_convert:\n",
    "    new_column_name = column + '_PER_CAPITA'\n",
    "    df_pa_filtered[new_column_name] = df_pa_filtered[column] / df_pa_filtered['POPULATION']"
   ]
  },
  {
   "cell_type": "markdown",
   "id": "e356cff8",
   "metadata": {},
   "source": [
    "**Perform Exploratory Data Analysis (EDA) to check for multicollinearity among the independent variables in the dataset**"
   ]
  },
  {
   "cell_type": "code",
   "execution_count": 60,
   "id": "8c9de590",
   "metadata": {},
   "outputs": [
    {
     "data": {
      "text/plain": [
       "((44, 54),\n",
       " POPULATION                                             int64\n",
       " LAND_AREA                                            float64\n",
       " BIKE_TO_WORK_EST                                       int64\n",
       " BIKE_TO_WORK_MARG                                      int64\n",
       " WALK_TO_WORK_EST                                       int64\n",
       " WALK_TO_WORK_MARG                                      int64\n",
       " DRIVE_SOLO_TO_WORK_EST                                 int64\n",
       " DRIVE_SOLO_TO_WORK_MARG                                int64\n",
       " CARPOOL_TO_WORK_EST                                    int64\n",
       " CARPOOL_TO_WORK_MARG                                   int64\n",
       " PUBTRANS_TO_WORK_EST                                   int64\n",
       " PUBTRANS_TO_WORK_MARG                                  int64\n",
       " EMPLOYEES_FULL_TIME                                  float64\n",
       " EMPLOYEES_PART_TIME                                  float64\n",
       " AUTOMOBILE_COUNT                                     float64\n",
       " BICYCLE_DEATH_BY_AUTO_COUNT                          float64\n",
       " BICYCLE_SUSP_SERIOUS_INJ_BY_AUTO_COUNT               float64\n",
       " PED_DEATH_BY_AUTO_COUNT                              float64\n",
       " PED_SUSP_SERIOUS_INJ_BY_AUTO_COUNT                   float64\n",
       " BICYCLE_DEATH_SOLO_COUNT                             float64\n",
       " BICYCLE_SUSP_SERIOUS_INJ_SOLO_COUNT                  float64\n",
       " PED_DEATH_SOLO_COUNT                                 float64\n",
       " PED_SUSP_SERIOUS_INJ_SOLO_COUNT                      float64\n",
       " BNA_SCORE                                              int64\n",
       " BICYCLE_BY_AUTO_COUNT                                float64\n",
       " PED_BY_AUTO_COUNT                                    float64\n",
       " BICYCLE_SOLO_COUNT                                   float64\n",
       " PED_SOLO_COUNT                                       float64\n",
       " LAND_AREA_PER_CAPITA                                 float64\n",
       " BIKE_TO_WORK_EST_PER_CAPITA                          float64\n",
       " BIKE_TO_WORK_MARG_PER_CAPITA                         float64\n",
       " WALK_TO_WORK_EST_PER_CAPITA                          float64\n",
       " WALK_TO_WORK_MARG_PER_CAPITA                         float64\n",
       " DRIVE_SOLO_TO_WORK_EST_PER_CAPITA                    float64\n",
       " DRIVE_SOLO_TO_WORK_MARG_PER_CAPITA                   float64\n",
       " CARPOOL_TO_WORK_EST_PER_CAPITA                       float64\n",
       " CARPOOL_TO_WORK_MARG_PER_CAPITA                      float64\n",
       " PUBTRANS_TO_WORK_EST_PER_CAPITA                      float64\n",
       " PUBTRANS_TO_WORK_MARG_PER_CAPITA                     float64\n",
       " EMPLOYEES_FULL_TIME_PER_CAPITA                       float64\n",
       " EMPLOYEES_PART_TIME_PER_CAPITA                       float64\n",
       " AUTOMOBILE_COUNT_PER_CAPITA                          float64\n",
       " BICYCLE_BY_AUTO_COUNT_PER_CAPITA                     float64\n",
       " BICYCLE_DEATH_BY_AUTO_COUNT_PER_CAPITA               float64\n",
       " BICYCLE_SUSP_SERIOUS_INJ_BY_AUTO_COUNT_PER_CAPITA    float64\n",
       " PED_BY_AUTO_COUNT_PER_CAPITA                         float64\n",
       " PED_DEATH_BY_AUTO_COUNT_PER_CAPITA                   float64\n",
       " PED_SUSP_SERIOUS_INJ_BY_AUTO_COUNT_PER_CAPITA        float64\n",
       " BICYCLE_SOLO_COUNT_PER_CAPITA                        float64\n",
       " BICYCLE_DEATH_SOLO_COUNT_PER_CAPITA                  float64\n",
       " BICYCLE_SUSP_SERIOUS_INJ_SOLO_COUNT_PER_CAPITA       float64\n",
       " PED_SOLO_COUNT_PER_CAPITA                            float64\n",
       " PED_DEATH_SOLO_COUNT_PER_CAPITA                      float64\n",
       " PED_SUSP_SERIOUS_INJ_SOLO_COUNT_PER_CAPITA           float64\n",
       " dtype: object)"
      ]
     },
     "execution_count": 60,
     "metadata": {},
     "output_type": "execute_result"
    }
   ],
   "source": [
    "# df_pa_filtered.columns\n",
    "df_pa_filtered.shape, df_pa_filtered.dtypes"
   ]
  },
  {
   "cell_type": "code",
   "execution_count": 61,
   "id": "8dbf21b1",
   "metadata": {},
   "outputs": [
    {
     "data": {
      "text/html": [
       "<div>\n",
       "<style scoped>\n",
       "    .dataframe tbody tr th:only-of-type {\n",
       "        vertical-align: middle;\n",
       "    }\n",
       "\n",
       "    .dataframe tbody tr th {\n",
       "        vertical-align: top;\n",
       "    }\n",
       "\n",
       "    .dataframe thead th {\n",
       "        text-align: right;\n",
       "    }\n",
       "</style>\n",
       "<table border=\"1\" class=\"dataframe\">\n",
       "  <thead>\n",
       "    <tr style=\"text-align: right;\">\n",
       "      <th></th>\n",
       "      <th>POPULATION</th>\n",
       "      <th>LAND_AREA</th>\n",
       "      <th>BIKE_TO_WORK_EST</th>\n",
       "      <th>BIKE_TO_WORK_MARG</th>\n",
       "      <th>WALK_TO_WORK_EST</th>\n",
       "      <th>WALK_TO_WORK_MARG</th>\n",
       "      <th>DRIVE_SOLO_TO_WORK_EST</th>\n",
       "      <th>DRIVE_SOLO_TO_WORK_MARG</th>\n",
       "      <th>CARPOOL_TO_WORK_EST</th>\n",
       "      <th>CARPOOL_TO_WORK_MARG</th>\n",
       "      <th>...</th>\n",
       "      <th>BICYCLE_SUSP_SERIOUS_INJ_BY_AUTO_COUNT_PER_CAPITA</th>\n",
       "      <th>PED_BY_AUTO_COUNT_PER_CAPITA</th>\n",
       "      <th>PED_DEATH_BY_AUTO_COUNT_PER_CAPITA</th>\n",
       "      <th>PED_SUSP_SERIOUS_INJ_BY_AUTO_COUNT_PER_CAPITA</th>\n",
       "      <th>BICYCLE_SOLO_COUNT_PER_CAPITA</th>\n",
       "      <th>BICYCLE_DEATH_SOLO_COUNT_PER_CAPITA</th>\n",
       "      <th>BICYCLE_SUSP_SERIOUS_INJ_SOLO_COUNT_PER_CAPITA</th>\n",
       "      <th>PED_SOLO_COUNT_PER_CAPITA</th>\n",
       "      <th>PED_DEATH_SOLO_COUNT_PER_CAPITA</th>\n",
       "      <th>PED_SUSP_SERIOUS_INJ_SOLO_COUNT_PER_CAPITA</th>\n",
       "    </tr>\n",
       "  </thead>\n",
       "  <tbody>\n",
       "    <tr>\n",
       "      <th>count</th>\n",
       "      <td>4.400000e+01</td>\n",
       "      <td>44.000000</td>\n",
       "      <td>44.000000</td>\n",
       "      <td>44.000000</td>\n",
       "      <td>44.000000</td>\n",
       "      <td>44.000000</td>\n",
       "      <td>44.000000</td>\n",
       "      <td>44.000000</td>\n",
       "      <td>44.000000</td>\n",
       "      <td>44.000000</td>\n",
       "      <td>...</td>\n",
       "      <td>44.000000</td>\n",
       "      <td>44.000000</td>\n",
       "      <td>44.000000</td>\n",
       "      <td>44.000000</td>\n",
       "      <td>44.000000</td>\n",
       "      <td>44.000000</td>\n",
       "      <td>44.000000</td>\n",
       "      <td>44.000000</td>\n",
       "      <td>44.000000</td>\n",
       "      <td>44.000000</td>\n",
       "    </tr>\n",
       "    <tr>\n",
       "      <th>mean</th>\n",
       "      <td>6.692270e+04</td>\n",
       "      <td>11.077273</td>\n",
       "      <td>421.522727</td>\n",
       "      <td>69.954545</td>\n",
       "      <td>2236.681818</td>\n",
       "      <td>222.613636</td>\n",
       "      <td>17178.113636</td>\n",
       "      <td>657.727273</td>\n",
       "      <td>2626.772727</td>\n",
       "      <td>318.250000</td>\n",
       "      <td>...</td>\n",
       "      <td>0.000025</td>\n",
       "      <td>0.000112</td>\n",
       "      <td>0.000025</td>\n",
       "      <td>0.000087</td>\n",
       "      <td>0.000020</td>\n",
       "      <td>0.000003</td>\n",
       "      <td>0.000016</td>\n",
       "      <td>0.000104</td>\n",
       "      <td>0.000030</td>\n",
       "      <td>0.000074</td>\n",
       "    </tr>\n",
       "    <tr>\n",
       "      <th>std</th>\n",
       "      <td>2.413978e+05</td>\n",
       "      <td>21.859731</td>\n",
       "      <td>2143.309650</td>\n",
       "      <td>150.068659</td>\n",
       "      <td>8366.840010</td>\n",
       "      <td>345.704889</td>\n",
       "      <td>52187.648923</td>\n",
       "      <td>812.147580</td>\n",
       "      <td>8449.989660</td>\n",
       "      <td>476.840675</td>\n",
       "      <td>...</td>\n",
       "      <td>0.000042</td>\n",
       "      <td>0.000122</td>\n",
       "      <td>0.000050</td>\n",
       "      <td>0.000103</td>\n",
       "      <td>0.000041</td>\n",
       "      <td>0.000015</td>\n",
       "      <td>0.000034</td>\n",
       "      <td>0.000106</td>\n",
       "      <td>0.000050</td>\n",
       "      <td>0.000082</td>\n",
       "    </tr>\n",
       "    <tr>\n",
       "      <th>min</th>\n",
       "      <td>2.590000e+02</td>\n",
       "      <td>0.200000</td>\n",
       "      <td>0.000000</td>\n",
       "      <td>6.000000</td>\n",
       "      <td>0.000000</td>\n",
       "      <td>7.000000</td>\n",
       "      <td>107.000000</td>\n",
       "      <td>62.000000</td>\n",
       "      <td>11.000000</td>\n",
       "      <td>10.000000</td>\n",
       "      <td>...</td>\n",
       "      <td>0.000000</td>\n",
       "      <td>0.000000</td>\n",
       "      <td>0.000000</td>\n",
       "      <td>0.000000</td>\n",
       "      <td>0.000000</td>\n",
       "      <td>0.000000</td>\n",
       "      <td>0.000000</td>\n",
       "      <td>0.000000</td>\n",
       "      <td>0.000000</td>\n",
       "      <td>0.000000</td>\n",
       "    </tr>\n",
       "    <tr>\n",
       "      <th>25%</th>\n",
       "      <td>4.969750e+03</td>\n",
       "      <td>1.675000</td>\n",
       "      <td>0.000000</td>\n",
       "      <td>11.000000</td>\n",
       "      <td>27.500000</td>\n",
       "      <td>27.000000</td>\n",
       "      <td>1967.250000</td>\n",
       "      <td>237.000000</td>\n",
       "      <td>231.000000</td>\n",
       "      <td>129.000000</td>\n",
       "      <td>...</td>\n",
       "      <td>0.000000</td>\n",
       "      <td>0.000000</td>\n",
       "      <td>0.000000</td>\n",
       "      <td>0.000000</td>\n",
       "      <td>0.000000</td>\n",
       "      <td>0.000000</td>\n",
       "      <td>0.000000</td>\n",
       "      <td>0.000000</td>\n",
       "      <td>0.000000</td>\n",
       "      <td>0.000000</td>\n",
       "    </tr>\n",
       "    <tr>\n",
       "      <th>50%</th>\n",
       "      <td>1.440800e+04</td>\n",
       "      <td>4.150000</td>\n",
       "      <td>13.000000</td>\n",
       "      <td>21.500000</td>\n",
       "      <td>222.000000</td>\n",
       "      <td>107.500000</td>\n",
       "      <td>5540.500000</td>\n",
       "      <td>489.000000</td>\n",
       "      <td>461.000000</td>\n",
       "      <td>189.500000</td>\n",
       "      <td>...</td>\n",
       "      <td>0.000000</td>\n",
       "      <td>0.000091</td>\n",
       "      <td>0.000000</td>\n",
       "      <td>0.000072</td>\n",
       "      <td>0.000000</td>\n",
       "      <td>0.000000</td>\n",
       "      <td>0.000000</td>\n",
       "      <td>0.000089</td>\n",
       "      <td>0.000000</td>\n",
       "      <td>0.000054</td>\n",
       "    </tr>\n",
       "    <tr>\n",
       "      <th>75%</th>\n",
       "      <td>4.129250e+04</td>\n",
       "      <td>9.975000</td>\n",
       "      <td>73.750000</td>\n",
       "      <td>53.250000</td>\n",
       "      <td>1165.500000</td>\n",
       "      <td>268.750000</td>\n",
       "      <td>13169.000000</td>\n",
       "      <td>811.500000</td>\n",
       "      <td>1593.500000</td>\n",
       "      <td>343.250000</td>\n",
       "      <td>...</td>\n",
       "      <td>0.000033</td>\n",
       "      <td>0.000187</td>\n",
       "      <td>0.000024</td>\n",
       "      <td>0.000153</td>\n",
       "      <td>0.000022</td>\n",
       "      <td>0.000000</td>\n",
       "      <td>0.000017</td>\n",
       "      <td>0.000178</td>\n",
       "      <td>0.000052</td>\n",
       "      <td>0.000137</td>\n",
       "    </tr>\n",
       "    <tr>\n",
       "      <th>max</th>\n",
       "      <td>1.596865e+06</td>\n",
       "      <td>134.100000</td>\n",
       "      <td>14172.000000</td>\n",
       "      <td>940.000000</td>\n",
       "      <td>54269.000000</td>\n",
       "      <td>2031.000000</td>\n",
       "      <td>343702.000000</td>\n",
       "      <td>5207.000000</td>\n",
       "      <td>55482.000000</td>\n",
       "      <td>3121.000000</td>\n",
       "      <td>...</td>\n",
       "      <td>0.000201</td>\n",
       "      <td>0.000500</td>\n",
       "      <td>0.000215</td>\n",
       "      <td>0.000400</td>\n",
       "      <td>0.000182</td>\n",
       "      <td>0.000091</td>\n",
       "      <td>0.000171</td>\n",
       "      <td>0.000430</td>\n",
       "      <td>0.000225</td>\n",
       "      <td>0.000344</td>\n",
       "    </tr>\n",
       "  </tbody>\n",
       "</table>\n",
       "<p>8 rows × 54 columns</p>\n",
       "</div>"
      ],
      "text/plain": [
       "         POPULATION   LAND_AREA  BIKE_TO_WORK_EST  BIKE_TO_WORK_MARG  \\\n",
       "count  4.400000e+01   44.000000         44.000000          44.000000   \n",
       "mean   6.692270e+04   11.077273        421.522727          69.954545   \n",
       "std    2.413978e+05   21.859731       2143.309650         150.068659   \n",
       "min    2.590000e+02    0.200000          0.000000           6.000000   \n",
       "25%    4.969750e+03    1.675000          0.000000          11.000000   \n",
       "50%    1.440800e+04    4.150000         13.000000          21.500000   \n",
       "75%    4.129250e+04    9.975000         73.750000          53.250000   \n",
       "max    1.596865e+06  134.100000      14172.000000         940.000000   \n",
       "\n",
       "       WALK_TO_WORK_EST  WALK_TO_WORK_MARG  DRIVE_SOLO_TO_WORK_EST  \\\n",
       "count         44.000000          44.000000               44.000000   \n",
       "mean        2236.681818         222.613636            17178.113636   \n",
       "std         8366.840010         345.704889            52187.648923   \n",
       "min            0.000000           7.000000              107.000000   \n",
       "25%           27.500000          27.000000             1967.250000   \n",
       "50%          222.000000         107.500000             5540.500000   \n",
       "75%         1165.500000         268.750000            13169.000000   \n",
       "max        54269.000000        2031.000000           343702.000000   \n",
       "\n",
       "       DRIVE_SOLO_TO_WORK_MARG  CARPOOL_TO_WORK_EST  CARPOOL_TO_WORK_MARG  \\\n",
       "count                44.000000            44.000000             44.000000   \n",
       "mean                657.727273          2626.772727            318.250000   \n",
       "std                 812.147580          8449.989660            476.840675   \n",
       "min                  62.000000            11.000000             10.000000   \n",
       "25%                 237.000000           231.000000            129.000000   \n",
       "50%                 489.000000           461.000000            189.500000   \n",
       "75%                 811.500000          1593.500000            343.250000   \n",
       "max                5207.000000         55482.000000           3121.000000   \n",
       "\n",
       "       ...  BICYCLE_SUSP_SERIOUS_INJ_BY_AUTO_COUNT_PER_CAPITA  \\\n",
       "count  ...                                          44.000000   \n",
       "mean   ...                                           0.000025   \n",
       "std    ...                                           0.000042   \n",
       "min    ...                                           0.000000   \n",
       "25%    ...                                           0.000000   \n",
       "50%    ...                                           0.000000   \n",
       "75%    ...                                           0.000033   \n",
       "max    ...                                           0.000201   \n",
       "\n",
       "       PED_BY_AUTO_COUNT_PER_CAPITA  PED_DEATH_BY_AUTO_COUNT_PER_CAPITA  \\\n",
       "count                     44.000000                           44.000000   \n",
       "mean                       0.000112                            0.000025   \n",
       "std                        0.000122                            0.000050   \n",
       "min                        0.000000                            0.000000   \n",
       "25%                        0.000000                            0.000000   \n",
       "50%                        0.000091                            0.000000   \n",
       "75%                        0.000187                            0.000024   \n",
       "max                        0.000500                            0.000215   \n",
       "\n",
       "       PED_SUSP_SERIOUS_INJ_BY_AUTO_COUNT_PER_CAPITA  \\\n",
       "count                                      44.000000   \n",
       "mean                                        0.000087   \n",
       "std                                         0.000103   \n",
       "min                                         0.000000   \n",
       "25%                                         0.000000   \n",
       "50%                                         0.000072   \n",
       "75%                                         0.000153   \n",
       "max                                         0.000400   \n",
       "\n",
       "       BICYCLE_SOLO_COUNT_PER_CAPITA  BICYCLE_DEATH_SOLO_COUNT_PER_CAPITA  \\\n",
       "count                      44.000000                            44.000000   \n",
       "mean                        0.000020                             0.000003   \n",
       "std                         0.000041                             0.000015   \n",
       "min                         0.000000                             0.000000   \n",
       "25%                         0.000000                             0.000000   \n",
       "50%                         0.000000                             0.000000   \n",
       "75%                         0.000022                             0.000000   \n",
       "max                         0.000182                             0.000091   \n",
       "\n",
       "       BICYCLE_SUSP_SERIOUS_INJ_SOLO_COUNT_PER_CAPITA  \\\n",
       "count                                       44.000000   \n",
       "mean                                         0.000016   \n",
       "std                                          0.000034   \n",
       "min                                          0.000000   \n",
       "25%                                          0.000000   \n",
       "50%                                          0.000000   \n",
       "75%                                          0.000017   \n",
       "max                                          0.000171   \n",
       "\n",
       "       PED_SOLO_COUNT_PER_CAPITA  PED_DEATH_SOLO_COUNT_PER_CAPITA  \\\n",
       "count                  44.000000                        44.000000   \n",
       "mean                    0.000104                         0.000030   \n",
       "std                     0.000106                         0.000050   \n",
       "min                     0.000000                         0.000000   \n",
       "25%                     0.000000                         0.000000   \n",
       "50%                     0.000089                         0.000000   \n",
       "75%                     0.000178                         0.000052   \n",
       "max                     0.000430                         0.000225   \n",
       "\n",
       "       PED_SUSP_SERIOUS_INJ_SOLO_COUNT_PER_CAPITA  \n",
       "count                                   44.000000  \n",
       "mean                                     0.000074  \n",
       "std                                      0.000082  \n",
       "min                                      0.000000  \n",
       "25%                                      0.000000  \n",
       "50%                                      0.000054  \n",
       "75%                                      0.000137  \n",
       "max                                      0.000344  \n",
       "\n",
       "[8 rows x 54 columns]"
      ]
     },
     "execution_count": 61,
     "metadata": {},
     "output_type": "execute_result"
    }
   ],
   "source": [
    "df_pa_filtered.describe()"
   ]
  },
  {
   "cell_type": "code",
   "execution_count": 62,
   "id": "c04315a5",
   "metadata": {},
   "outputs": [
    {
     "data": {
      "text/plain": [
       "POPULATION                                           0\n",
       "LAND_AREA                                            0\n",
       "BIKE_TO_WORK_EST                                     0\n",
       "BIKE_TO_WORK_MARG                                    0\n",
       "WALK_TO_WORK_EST                                     0\n",
       "WALK_TO_WORK_MARG                                    0\n",
       "DRIVE_SOLO_TO_WORK_EST                               0\n",
       "DRIVE_SOLO_TO_WORK_MARG                              0\n",
       "CARPOOL_TO_WORK_EST                                  0\n",
       "CARPOOL_TO_WORK_MARG                                 0\n",
       "PUBTRANS_TO_WORK_EST                                 0\n",
       "PUBTRANS_TO_WORK_MARG                                0\n",
       "EMPLOYEES_FULL_TIME                                  0\n",
       "EMPLOYEES_PART_TIME                                  0\n",
       "AUTOMOBILE_COUNT                                     0\n",
       "BICYCLE_DEATH_BY_AUTO_COUNT                          0\n",
       "BICYCLE_SUSP_SERIOUS_INJ_BY_AUTO_COUNT               0\n",
       "PED_DEATH_BY_AUTO_COUNT                              0\n",
       "PED_SUSP_SERIOUS_INJ_BY_AUTO_COUNT                   0\n",
       "BICYCLE_DEATH_SOLO_COUNT                             0\n",
       "BICYCLE_SUSP_SERIOUS_INJ_SOLO_COUNT                  0\n",
       "PED_DEATH_SOLO_COUNT                                 0\n",
       "PED_SUSP_SERIOUS_INJ_SOLO_COUNT                      0\n",
       "BNA_SCORE                                            0\n",
       "BICYCLE_BY_AUTO_COUNT                                0\n",
       "PED_BY_AUTO_COUNT                                    0\n",
       "BICYCLE_SOLO_COUNT                                   0\n",
       "PED_SOLO_COUNT                                       0\n",
       "LAND_AREA_PER_CAPITA                                 0\n",
       "BIKE_TO_WORK_EST_PER_CAPITA                          0\n",
       "BIKE_TO_WORK_MARG_PER_CAPITA                         0\n",
       "WALK_TO_WORK_EST_PER_CAPITA                          0\n",
       "WALK_TO_WORK_MARG_PER_CAPITA                         0\n",
       "DRIVE_SOLO_TO_WORK_EST_PER_CAPITA                    0\n",
       "DRIVE_SOLO_TO_WORK_MARG_PER_CAPITA                   0\n",
       "CARPOOL_TO_WORK_EST_PER_CAPITA                       0\n",
       "CARPOOL_TO_WORK_MARG_PER_CAPITA                      0\n",
       "PUBTRANS_TO_WORK_EST_PER_CAPITA                      0\n",
       "PUBTRANS_TO_WORK_MARG_PER_CAPITA                     0\n",
       "EMPLOYEES_FULL_TIME_PER_CAPITA                       0\n",
       "EMPLOYEES_PART_TIME_PER_CAPITA                       0\n",
       "AUTOMOBILE_COUNT_PER_CAPITA                          0\n",
       "BICYCLE_BY_AUTO_COUNT_PER_CAPITA                     0\n",
       "BICYCLE_DEATH_BY_AUTO_COUNT_PER_CAPITA               0\n",
       "BICYCLE_SUSP_SERIOUS_INJ_BY_AUTO_COUNT_PER_CAPITA    0\n",
       "PED_BY_AUTO_COUNT_PER_CAPITA                         0\n",
       "PED_DEATH_BY_AUTO_COUNT_PER_CAPITA                   0\n",
       "PED_SUSP_SERIOUS_INJ_BY_AUTO_COUNT_PER_CAPITA        0\n",
       "BICYCLE_SOLO_COUNT_PER_CAPITA                        0\n",
       "BICYCLE_DEATH_SOLO_COUNT_PER_CAPITA                  0\n",
       "BICYCLE_SUSP_SERIOUS_INJ_SOLO_COUNT_PER_CAPITA       0\n",
       "PED_SOLO_COUNT_PER_CAPITA                            0\n",
       "PED_DEATH_SOLO_COUNT_PER_CAPITA                      0\n",
       "PED_SUSP_SERIOUS_INJ_SOLO_COUNT_PER_CAPITA           0\n",
       "dtype: int64"
      ]
     },
     "execution_count": 62,
     "metadata": {},
     "output_type": "execute_result"
    }
   ],
   "source": [
    "# Check for NaN missing values\n",
    "df_pa_filtered.isna().sum()"
   ]
  },
  {
   "cell_type": "code",
   "execution_count": 63,
   "id": "825c499e",
   "metadata": {},
   "outputs": [
    {
     "data": {
      "text/html": [
       "<div>\n",
       "<style scoped>\n",
       "    .dataframe tbody tr th:only-of-type {\n",
       "        vertical-align: middle;\n",
       "    }\n",
       "\n",
       "    .dataframe tbody tr th {\n",
       "        vertical-align: top;\n",
       "    }\n",
       "\n",
       "    .dataframe thead th {\n",
       "        text-align: right;\n",
       "    }\n",
       "</style>\n",
       "<table border=\"1\" class=\"dataframe\">\n",
       "  <thead>\n",
       "    <tr style=\"text-align: right;\">\n",
       "      <th></th>\n",
       "      <th>POPULATION</th>\n",
       "      <th>LAND_AREA</th>\n",
       "      <th>BIKE_TO_WORK_EST</th>\n",
       "      <th>BIKE_TO_WORK_MARG</th>\n",
       "      <th>WALK_TO_WORK_EST</th>\n",
       "      <th>WALK_TO_WORK_MARG</th>\n",
       "      <th>DRIVE_SOLO_TO_WORK_EST</th>\n",
       "      <th>DRIVE_SOLO_TO_WORK_MARG</th>\n",
       "      <th>CARPOOL_TO_WORK_EST</th>\n",
       "      <th>CARPOOL_TO_WORK_MARG</th>\n",
       "      <th>...</th>\n",
       "      <th>BICYCLE_SUSP_SERIOUS_INJ_BY_AUTO_COUNT_PER_CAPITA</th>\n",
       "      <th>PED_BY_AUTO_COUNT_PER_CAPITA</th>\n",
       "      <th>PED_DEATH_BY_AUTO_COUNT_PER_CAPITA</th>\n",
       "      <th>PED_SUSP_SERIOUS_INJ_BY_AUTO_COUNT_PER_CAPITA</th>\n",
       "      <th>BICYCLE_SOLO_COUNT_PER_CAPITA</th>\n",
       "      <th>BICYCLE_DEATH_SOLO_COUNT_PER_CAPITA</th>\n",
       "      <th>BICYCLE_SUSP_SERIOUS_INJ_SOLO_COUNT_PER_CAPITA</th>\n",
       "      <th>PED_SOLO_COUNT_PER_CAPITA</th>\n",
       "      <th>PED_DEATH_SOLO_COUNT_PER_CAPITA</th>\n",
       "      <th>PED_SUSP_SERIOUS_INJ_SOLO_COUNT_PER_CAPITA</th>\n",
       "    </tr>\n",
       "  </thead>\n",
       "  <tbody>\n",
       "    <tr>\n",
       "      <th>0</th>\n",
       "      <td>125250</td>\n",
       "      <td>17.6</td>\n",
       "      <td>79</td>\n",
       "      <td>51</td>\n",
       "      <td>2396</td>\n",
       "      <td>607</td>\n",
       "      <td>36549</td>\n",
       "      <td>1464</td>\n",
       "      <td>8407</td>\n",
       "      <td>817</td>\n",
       "      <td>...</td>\n",
       "      <td>0.000032</td>\n",
       "      <td>0.000248</td>\n",
       "      <td>0.000016</td>\n",
       "      <td>0.000232</td>\n",
       "      <td>0.000000</td>\n",
       "      <td>0.0</td>\n",
       "      <td>0.000000</td>\n",
       "      <td>0.000168</td>\n",
       "      <td>0.000008</td>\n",
       "      <td>0.000160</td>\n",
       "    </tr>\n",
       "    <tr>\n",
       "      <th>1</th>\n",
       "      <td>44114</td>\n",
       "      <td>9.9</td>\n",
       "      <td>4</td>\n",
       "      <td>6</td>\n",
       "      <td>761</td>\n",
       "      <td>210</td>\n",
       "      <td>14943</td>\n",
       "      <td>816</td>\n",
       "      <td>1391</td>\n",
       "      <td>269</td>\n",
       "      <td>...</td>\n",
       "      <td>0.000023</td>\n",
       "      <td>0.000136</td>\n",
       "      <td>0.000023</td>\n",
       "      <td>0.000113</td>\n",
       "      <td>0.000045</td>\n",
       "      <td>0.0</td>\n",
       "      <td>0.000045</td>\n",
       "      <td>0.000136</td>\n",
       "      <td>0.000000</td>\n",
       "      <td>0.000136</td>\n",
       "    </tr>\n",
       "    <tr>\n",
       "      <th>2</th>\n",
       "      <td>3268</td>\n",
       "      <td>1.8</td>\n",
       "      <td>0</td>\n",
       "      <td>11</td>\n",
       "      <td>0</td>\n",
       "      <td>11</td>\n",
       "      <td>1397</td>\n",
       "      <td>231</td>\n",
       "      <td>109</td>\n",
       "      <td>79</td>\n",
       "      <td>...</td>\n",
       "      <td>0.000000</td>\n",
       "      <td>0.000000</td>\n",
       "      <td>0.000000</td>\n",
       "      <td>0.000000</td>\n",
       "      <td>0.000000</td>\n",
       "      <td>0.0</td>\n",
       "      <td>0.000000</td>\n",
       "      <td>0.000000</td>\n",
       "      <td>0.000000</td>\n",
       "      <td>0.000000</td>\n",
       "    </tr>\n",
       "  </tbody>\n",
       "</table>\n",
       "<p>3 rows × 54 columns</p>\n",
       "</div>"
      ],
      "text/plain": [
       "   POPULATION  LAND_AREA  BIKE_TO_WORK_EST  BIKE_TO_WORK_MARG  \\\n",
       "0      125250       17.6                79                 51   \n",
       "1       44114        9.9                 4                  6   \n",
       "2        3268        1.8                 0                 11   \n",
       "\n",
       "   WALK_TO_WORK_EST  WALK_TO_WORK_MARG  DRIVE_SOLO_TO_WORK_EST  \\\n",
       "0              2396                607                   36549   \n",
       "1               761                210                   14943   \n",
       "2                 0                 11                    1397   \n",
       "\n",
       "   DRIVE_SOLO_TO_WORK_MARG  CARPOOL_TO_WORK_EST  CARPOOL_TO_WORK_MARG  ...  \\\n",
       "0                     1464                 8407                   817  ...   \n",
       "1                      816                 1391                   269  ...   \n",
       "2                      231                  109                    79  ...   \n",
       "\n",
       "   BICYCLE_SUSP_SERIOUS_INJ_BY_AUTO_COUNT_PER_CAPITA  \\\n",
       "0                                           0.000032   \n",
       "1                                           0.000023   \n",
       "2                                           0.000000   \n",
       "\n",
       "   PED_BY_AUTO_COUNT_PER_CAPITA  PED_DEATH_BY_AUTO_COUNT_PER_CAPITA  \\\n",
       "0                      0.000248                            0.000016   \n",
       "1                      0.000136                            0.000023   \n",
       "2                      0.000000                            0.000000   \n",
       "\n",
       "   PED_SUSP_SERIOUS_INJ_BY_AUTO_COUNT_PER_CAPITA  \\\n",
       "0                                       0.000232   \n",
       "1                                       0.000113   \n",
       "2                                       0.000000   \n",
       "\n",
       "   BICYCLE_SOLO_COUNT_PER_CAPITA  BICYCLE_DEATH_SOLO_COUNT_PER_CAPITA  \\\n",
       "0                       0.000000                                  0.0   \n",
       "1                       0.000045                                  0.0   \n",
       "2                       0.000000                                  0.0   \n",
       "\n",
       "   BICYCLE_SUSP_SERIOUS_INJ_SOLO_COUNT_PER_CAPITA  PED_SOLO_COUNT_PER_CAPITA  \\\n",
       "0                                        0.000000                   0.000168   \n",
       "1                                        0.000045                   0.000136   \n",
       "2                                        0.000000                   0.000000   \n",
       "\n",
       "   PED_DEATH_SOLO_COUNT_PER_CAPITA  PED_SUSP_SERIOUS_INJ_SOLO_COUNT_PER_CAPITA  \n",
       "0                         0.000008                                    0.000160  \n",
       "1                         0.000000                                    0.000136  \n",
       "2                         0.000000                                    0.000000  \n",
       "\n",
       "[3 rows x 54 columns]"
      ]
     },
     "execution_count": 63,
     "metadata": {},
     "output_type": "execute_result"
    }
   ],
   "source": [
    "df_pa_filtered.head(3)"
   ]
  },
  {
   "cell_type": "markdown",
   "id": "4e9783fb",
   "metadata": {},
   "source": [
    "**Use Pandas Profiling**"
   ]
  },
  {
   "cell_type": "code",
   "execution_count": 64,
   "id": "f7601c72",
   "metadata": {},
   "outputs": [],
   "source": [
    "#pp.ProfileReport(df_pa_filtered)"
   ]
  },
  {
   "cell_type": "markdown",
   "id": "b42fe72c",
   "metadata": {},
   "source": [
    "**According to the Pandas Profiling report, we can see that our independent variables are highly correlated with each other. This suggests a high likelihood of multicollinearity in our linear regression model. To address this issue, I need to remove some independent variables and retain only the necessary ones as much as possible. Additionally, I have decided to remove BICYCLE_DEATH_BY_AUTO_COUNT and BICYCLE_DEATH_SOLO_COUNT because both exhibit a high level of imbalance (62.6%).**"
   ]
  },
  {
   "cell_type": "code",
   "execution_count": 65,
   "id": "6fc8980f",
   "metadata": {},
   "outputs": [],
   "source": [
    "# Drop independent variables that are highly correlated\n",
    "df_pa_filtered = df_pa_filtered.drop(['LAND_AREA', 'BIKE_TO_WORK_EST', 'BIKE_TO_WORK_MARG',\n",
    "        'WALK_TO_WORK_EST', 'WALK_TO_WORK_MARG', 'DRIVE_SOLO_TO_WORK_EST',\n",
    "        'DRIVE_SOLO_TO_WORK_MARG', 'CARPOOL_TO_WORK_EST',\n",
    "        'CARPOOL_TO_WORK_MARG', 'PUBTRANS_TO_WORK_EST', 'PUBTRANS_TO_WORK_MARG',\n",
    "        'EMPLOYEES_FULL_TIME', 'EMPLOYEES_PART_TIME', 'AUTOMOBILE_COUNT',\n",
    "        'BICYCLE_BY_AUTO_COUNT', 'BICYCLE_DEATH_BY_AUTO_COUNT',\n",
    "        'BICYCLE_SUSP_SERIOUS_INJ_BY_AUTO_COUNT', 'PED_BY_AUTO_COUNT',\n",
    "        'PED_DEATH_BY_AUTO_COUNT', 'PED_SUSP_SERIOUS_INJ_BY_AUTO_COUNT',\n",
    "        'BICYCLE_SOLO_COUNT', 'BICYCLE_DEATH_SOLO_COUNT',\n",
    "        'BICYCLE_SUSP_SERIOUS_INJ_SOLO_COUNT', 'PED_SOLO_COUNT',\n",
    "        'PED_DEATH_SOLO_COUNT', 'PED_SUSP_SERIOUS_INJ_SOLO_COUNT'], axis=1)"
   ]
  },
  {
   "cell_type": "markdown",
   "id": "7ba89bee",
   "metadata": {},
   "source": [
    "### 2. Fit the linear regression using [scikit-learn](https://scikit-learn.org/stable/modules/generated/sklearn.linear_model.LinearRegression.html)"
   ]
  },
  {
   "cell_type": "markdown",
   "id": "f3b91f83",
   "metadata": {},
   "source": [
    "**Separate data set in Y(independent) and X (dependent) variable**"
   ]
  },
  {
   "cell_type": "code",
   "execution_count": 66,
   "id": "f0f55a8a",
   "metadata": {},
   "outputs": [],
   "source": [
    "y = df_pa_filtered[\"BICYCLE_BY_AUTO_COUNT_PER_CAPITA\"] # Y = df_pa_filtered.BICYCLE_BY_AUTO_COUNT_PER_CAPITA\n",
    "X = df_pa_filtered.loc[:, df_pa_filtered.columns != \"BICYCLE_BY_AUTO_COUNT_PER_CAPITA\"] # I want all columns except the BICYCLE_BY_AUTO_COUNT_PER_CAPITA column which is the dependent variable"
   ]
  },
  {
   "cell_type": "markdown",
   "id": "9ce05ba4",
   "metadata": {},
   "source": [
    "**Use the train_test_split function to split your data into training (80%) and testing set (20%)**"
   ]
  },
  {
   "cell_type": "code",
   "execution_count": 67,
   "id": "9b9e91e6",
   "metadata": {},
   "outputs": [],
   "source": [
    "X_train, X_test, y_train, y_test = train_test_split(X, y, test_size=0.2, random_state=5)"
   ]
  },
  {
   "cell_type": "markdown",
   "id": "443547e2",
   "metadata": {},
   "source": [
    "**Fit, run or estimate the regression model**"
   ]
  },
  {
   "cell_type": "code",
   "execution_count": 68,
   "id": "0a43fe4d",
   "metadata": {},
   "outputs": [
    {
     "data": {
      "text/plain": [
       "LinearRegression()"
      ]
     },
     "execution_count": 68,
     "metadata": {},
     "output_type": "execute_result"
    }
   ],
   "source": [
    "model = LinearRegression() # Create an instance of the linear regression class\n",
    "model.fit(X_train, y_train)"
   ]
  },
  {
   "cell_type": "code",
   "execution_count": 69,
   "id": "02e19134",
   "metadata": {},
   "outputs": [
    {
     "data": {
      "text/plain": [
       "array([ 5.50944437e-24, -9.84252285e-19,  9.69570474e-17,  2.21150211e-17,\n",
       "       -2.82775332e-18, -5.55493471e-18,  2.73386964e-17,  1.13401830e-18,\n",
       "       -4.69830647e-18,  2.42943939e-18, -9.35111139e-18, -1.03867415e-19,\n",
       "        1.09073425e-17, -4.88870359e-19,  1.18219098e-17, -2.09029757e-17,\n",
       "        1.00000000e+00,  1.00000000e+00,  1.03067376e-13, -1.03865976e-13,\n",
       "       -1.02511150e-13, -7.15408215e-14,  6.93299803e-14,  7.41850325e-14,\n",
       "       -2.50541269e-13,  2.49987338e-13,  2.50531607e-13])"
      ]
     },
     "execution_count": 69,
     "metadata": {},
     "output_type": "execute_result"
    }
   ],
   "source": [
    "# Coefficient values\n",
    "model.coef_"
   ]
  },
  {
   "cell_type": "code",
   "execution_count": 70,
   "id": "3e670375",
   "metadata": {},
   "outputs": [
    {
     "name": "stdout",
     "output_type": "stream",
     "text": [
      "2.7064396730669404e-17 [ 5.50944437e-24 -9.84252285e-19  9.69570474e-17  2.21150211e-17\n",
      " -2.82775332e-18 -5.55493471e-18  2.73386964e-17  1.13401830e-18\n",
      " -4.69830647e-18  2.42943939e-18 -9.35111139e-18 -1.03867415e-19\n",
      "  1.09073425e-17 -4.88870359e-19  1.18219098e-17 -2.09029757e-17\n",
      "  1.00000000e+00  1.00000000e+00  1.03067376e-13 -1.03865976e-13\n",
      " -1.02511150e-13 -7.15408215e-14  6.93299803e-14  7.41850325e-14\n",
      " -2.50541269e-13  2.49987338e-13  2.50531607e-13] 1.0\n"
     ]
    }
   ],
   "source": [
    "print(model.intercept_, model.coef_,model.score(X_test, y_test)) # Model score gives you the R-squared"
   ]
  },
  {
   "cell_type": "markdown",
   "id": "d137d925",
   "metadata": {},
   "source": [
    "**Using the independent variables in the testing set, to predict the dependent variables**"
   ]
  },
  {
   "cell_type": "code",
   "execution_count": 71,
   "id": "9d57c6ff",
   "metadata": {},
   "outputs": [],
   "source": [
    "y_pred = model.predict(X_test)"
   ]
  },
  {
   "cell_type": "markdown",
   "id": "7947cd33",
   "metadata": {},
   "source": [
    "**Use the test set, check how well my model does in terms of error metrics**"
   ]
  },
  {
   "cell_type": "code",
   "execution_count": 72,
   "id": "036bda87",
   "metadata": {},
   "outputs": [
    {
     "data": {
      "text/plain": [
       "(3.842137959126562e-34, 1.489982740580677e-17, 0.0570693556336695)"
      ]
     },
     "execution_count": 72,
     "metadata": {},
     "output_type": "execute_result"
    }
   ],
   "source": [
    "MAE = mean_absolute_error(y_test,y_pred)\n",
    "MSE = mean_squared_error(y_test,y_pred)\n",
    "MAPE = mean_absolute_percentage_error(y_test,y_pred)\n",
    "MSE, MAE, MAPE"
   ]
  },
  {
   "cell_type": "markdown",
   "id": "a4e5cc45",
   "metadata": {},
   "source": [
    "### 3. Fit the linear regression using [Statsmodels](https://www.statsmodels.org/stable/index.html)"
   ]
  },
  {
   "cell_type": "code",
   "execution_count": 73,
   "id": "3a078798",
   "metadata": {},
   "outputs": [],
   "source": [
    "X_train = sm.add_constant(X_train)"
   ]
  },
  {
   "cell_type": "code",
   "execution_count": 74,
   "id": "605053ed",
   "metadata": {},
   "outputs": [],
   "source": [
    "model2 = sm.OLS(y_train, X_train).fit()"
   ]
  },
  {
   "cell_type": "code",
   "execution_count": 75,
   "id": "a7f65e11",
   "metadata": {},
   "outputs": [
    {
     "name": "stdout",
     "output_type": "stream",
     "text": [
      "                                   OLS Regression Results                                   \n",
      "============================================================================================\n",
      "Dep. Variable:     BICYCLE_BY_AUTO_COUNT_PER_CAPITA   R-squared:                       1.000\n",
      "Model:                                          OLS   Adj. R-squared:                  1.000\n",
      "Method:                               Least Squares   F-statistic:                 1.151e+27\n",
      "Date:                              Sun, 26 Nov 2023   Prob (F-statistic):          2.71e-134\n",
      "Time:                                      23:19:04   Log-Likelihood:                 1407.1\n",
      "No. Observations:                                35   AIC:                            -2764.\n",
      "Df Residuals:                                    10   BIC:                            -2725.\n",
      "Df Model:                                        24                                         \n",
      "Covariance Type:                          nonrobust                                         \n",
      "=====================================================================================================================\n",
      "                                                        coef    std err          t      P>|t|      [0.025      0.975]\n",
      "---------------------------------------------------------------------------------------------------------------------\n",
      "const                                              2.711e-19   5.78e-18      0.047      0.964   -1.26e-17    1.32e-17\n",
      "POPULATION                                        -8.311e-24   1.44e-23     -0.575      0.578   -4.05e-23    2.39e-23\n",
      "BNA_SCORE                                          5.442e-20    5.9e-20      0.922      0.378   -7.71e-20    1.86e-19\n",
      "LAND_AREA_PER_CAPITA                              -6.158e-17   1.93e-16     -0.319      0.757   -4.92e-16    3.69e-16\n",
      "BIKE_TO_WORK_EST_PER_CAPITA                       -1.301e-17   5.04e-16     -0.026      0.980   -1.14e-15    1.11e-15\n",
      "BIKE_TO_WORK_MARG_PER_CAPITA                      -1.289e-16   3.44e-16     -0.375      0.716   -8.95e-16    6.38e-16\n",
      "WALK_TO_WORK_EST_PER_CAPITA                        2.299e-17   8.14e-17      0.282      0.783   -1.58e-16    2.04e-16\n",
      "WALK_TO_WORK_MARG_PER_CAPITA                      -5.725e-17   2.51e-16     -0.228      0.824   -6.16e-16    5.02e-16\n",
      "DRIVE_SOLO_TO_WORK_EST_PER_CAPITA                 -6.776e-18   1.46e-17     -0.465      0.652   -3.93e-17    2.57e-17\n",
      "DRIVE_SOLO_TO_WORK_MARG_PER_CAPITA                 2.355e-17   5.97e-17      0.394      0.702    -1.1e-16    1.57e-16\n",
      "CARPOOL_TO_WORK_EST_PER_CAPITA                     1.675e-17   5.56e-17      0.301      0.769   -1.07e-16    1.41e-16\n",
      "CARPOOL_TO_WORK_MARG_PER_CAPITA                   -1.377e-17   1.39e-16     -0.099      0.923   -3.24e-16    2.97e-16\n",
      "PUBTRANS_TO_WORK_EST_PER_CAPITA                   -1.108e-17   5.86e-17     -0.189      0.854   -1.42e-16     1.2e-16\n",
      "PUBTRANS_TO_WORK_MARG_PER_CAPITA                   4.987e-17   1.95e-16      0.256      0.803   -3.84e-16    4.84e-16\n",
      "EMPLOYEES_FULL_TIME_PER_CAPITA                     -3.99e-17   2.49e-16     -0.160      0.876   -5.95e-16    5.15e-16\n",
      "EMPLOYEES_PART_TIME_PER_CAPITA                     1.605e-17   1.31e-16      0.123      0.905   -2.75e-16    3.07e-16\n",
      "AUTOMOBILE_COUNT_PER_CAPITA                        -3.14e-16   1.11e-15     -0.284      0.782   -2.78e-15    2.15e-15\n",
      "BICYCLE_DEATH_BY_AUTO_COUNT_PER_CAPITA                1.0000   8.26e-14   1.21e+13      0.000       1.000       1.000\n",
      "BICYCLE_SUSP_SERIOUS_INJ_BY_AUTO_COUNT_PER_CAPITA     1.0000   2.12e-14   4.73e+13      0.000       1.000       1.000\n",
      "PED_BY_AUTO_COUNT_PER_CAPITA                       3.931e-14   5.11e-15      7.693      0.000    2.79e-14    5.07e-14\n",
      "PED_DEATH_BY_AUTO_COUNT_PER_CAPITA                -4.056e-14   1.21e-14     -3.341      0.007   -6.76e-14   -1.35e-14\n",
      "PED_SUSP_SERIOUS_INJ_BY_AUTO_COUNT_PER_CAPITA     -3.864e-14   8.41e-15     -4.592      0.001   -5.74e-14   -1.99e-14\n",
      "BICYCLE_SOLO_COUNT_PER_CAPITA                      6.994e-15   1.77e-14      0.395      0.701   -3.24e-14    4.64e-14\n",
      "BICYCLE_DEATH_SOLO_COUNT_PER_CAPITA               -8.354e-15   2.95e-14     -0.283      0.783   -7.41e-14    5.74e-14\n",
      "BICYCLE_SUSP_SERIOUS_INJ_SOLO_COUNT_PER_CAPITA    -8.715e-15   1.89e-14     -0.460      0.655   -5.09e-14    3.35e-14\n",
      "PED_SOLO_COUNT_PER_CAPITA                          4.205e-15   4.87e-15      0.863      0.408   -6.65e-15    1.51e-14\n",
      "PED_DEATH_SOLO_COUNT_PER_CAPITA                   -2.165e-15   1.23e-14     -0.176      0.864   -2.96e-14    2.53e-14\n",
      "PED_SUSP_SERIOUS_INJ_SOLO_COUNT_PER_CAPITA        -6.051e-15   1.01e-14     -0.601      0.561   -2.85e-14    1.64e-14\n",
      "==============================================================================\n",
      "Omnibus:                        7.340   Durbin-Watson:                   1.175\n",
      "Prob(Omnibus):                  0.025   Jarque-Bera (JB):               11.923\n",
      "Skew:                           0.116   Prob(JB):                      0.00258\n",
      "Kurtosis:                       5.850   Cond. No.                     1.20e+16\n",
      "==============================================================================\n",
      "\n",
      "Notes:\n",
      "[1] Standard Errors assume that the covariance matrix of the errors is correctly specified.\n",
      "[2] The smallest eigenvalue is 1.05e-21. This might indicate that there are\n",
      "strong multicollinearity problems or that the design matrix is singular.\n"
     ]
    }
   ],
   "source": [
    "print(model2.summary())"
   ]
  },
  {
   "cell_type": "markdown",
   "id": "e8637cd3",
   "metadata": {},
   "source": [
    "**In-sample prediction**"
   ]
  },
  {
   "cell_type": "code",
   "execution_count": 76,
   "id": "4b106957",
   "metadata": {},
   "outputs": [
    {
     "data": {
      "text/plain": [
       "const                                                2.710505e-19\n",
       "POPULATION                                          -8.310580e-24\n",
       "BNA_SCORE                                            5.442187e-20\n",
       "LAND_AREA_PER_CAPITA                                -6.158268e-17\n",
       "BIKE_TO_WORK_EST_PER_CAPITA                         -1.301043e-17\n",
       "BIKE_TO_WORK_MARG_PER_CAPITA                        -1.289116e-16\n",
       "WALK_TO_WORK_EST_PER_CAPITA                          2.298509e-17\n",
       "WALK_TO_WORK_MARG_PER_CAPITA                        -5.724587e-17\n",
       "DRIVE_SOLO_TO_WORK_EST_PER_CAPITA                   -6.776264e-18\n",
       "DRIVE_SOLO_TO_WORK_MARG_PER_CAPITA                   2.355429e-17\n",
       "CARPOOL_TO_WORK_EST_PER_CAPITA                       1.675092e-17\n",
       "CARPOOL_TO_WORK_MARG_PER_CAPITA                     -1.376937e-17\n",
       "PUBTRANS_TO_WORK_EST_PER_CAPITA                     -1.107919e-17\n",
       "PUBTRANS_TO_WORK_MARG_PER_CAPITA                     4.987330e-17\n",
       "EMPLOYEES_FULL_TIME_PER_CAPITA                      -3.989864e-17\n",
       "EMPLOYEES_PART_TIME_PER_CAPITA                       1.604619e-17\n",
       "AUTOMOBILE_COUNT_PER_CAPITA                         -3.139849e-16\n",
       "BICYCLE_DEATH_BY_AUTO_COUNT_PER_CAPITA               1.000000e+00\n",
       "BICYCLE_SUSP_SERIOUS_INJ_BY_AUTO_COUNT_PER_CAPITA    1.000000e+00\n",
       "PED_BY_AUTO_COUNT_PER_CAPITA                         3.930536e-14\n",
       "PED_DEATH_BY_AUTO_COUNT_PER_CAPITA                  -4.055783e-14\n",
       "PED_SUSP_SERIOUS_INJ_BY_AUTO_COUNT_PER_CAPITA       -3.863923e-14\n",
       "BICYCLE_SOLO_COUNT_PER_CAPITA                        6.994405e-15\n",
       "BICYCLE_DEATH_SOLO_COUNT_PER_CAPITA                 -8.354428e-15\n",
       "BICYCLE_SUSP_SERIOUS_INJ_SOLO_COUNT_PER_CAPITA      -8.715251e-15\n",
       "PED_SOLO_COUNT_PER_CAPITA                            4.204970e-15\n",
       "PED_DEATH_SOLO_COUNT_PER_CAPITA                     -2.164935e-15\n",
       "PED_SUSP_SERIOUS_INJ_SOLO_COUNT_PER_CAPITA          -6.050715e-15\n",
       "dtype: float64"
      ]
     },
     "execution_count": 76,
     "metadata": {},
     "output_type": "execute_result"
    }
   ],
   "source": [
    "ypred2 = model2.predict(X_train)\n",
    "model2.params"
   ]
  },
  {
   "cell_type": "markdown",
   "id": "fc0769af",
   "metadata": {},
   "source": [
    "**According to the results from Statsmodels:**\n",
    "- **The estimated coefficients, which include DRIVE_SOLO_TO_WORK_EST_PER_CAPITA, CARPOOL_TO_WORK_MARG_PER_CAPITA, AUTOMOBILE_COUNT_PER_CAPITA, PED_BY_AUTO_COUNT_PER_CAPITA, BICYCLE_DEATH_SOLO_COUNT_PER_CAPITA, and PED_SUSP_SERIOUS_INJ_SOLO_COUNT_PER_CAPITA, are statistically significant at the 5% level of significance in the 90% training set.**\n",
    "- **Additionally, in the 80% training set, the estimated coefficients, including DRIVE_SOLO_TO_WORK_EST_PER_CAPITA, AUTOMOBILE_COUNT_PER_CAPITA, and PED_BY_AUTO_COUNT_PER_CAPITA, are statistically significant at the 5% level of significance.**\n",
    "- **However, in the 70% training set, none of the estimated coefficients are statistically insignificant.**"
   ]
  },
  {
   "cell_type": "markdown",
   "id": "8db2ee89",
   "metadata": {},
   "source": [
    "### 4. Plot the residuals, display feature coefficients, and create a QQ plot"
   ]
  },
  {
   "cell_type": "markdown",
   "id": "cfc1ca52",
   "metadata": {},
   "source": [
    "### Credit:\n",
    "\n",
    "The following code is based on the work of my supervisor, Mitch Shiles. The original code can be found at this link: [Mitch Shiles' GitHub](https://github.com/rmshiles/Custom-Data-Tools/blob/main/testing%20for%20normality%20.ipynb)."
   ]
  },
  {
   "cell_type": "markdown",
   "id": "efff21e3",
   "metadata": {},
   "source": [
    "**Below is a defined function designed to test residuals for a normal distribution.**"
   ]
  },
  {
   "cell_type": "code",
   "execution_count": 77,
   "id": "d98ba709",
   "metadata": {},
   "outputs": [],
   "source": [
    "# Define a test for normality \n",
    "\n",
    "# Test for normality \n",
    "# y_test is the target variable and y_pred are the predicted variables \n",
    "def test_for_normality(y_test,y_pred):\n",
    "    from scipy.stats import boxcox\n",
    "    from scipy.stats import jarque_bera\n",
    "    from scipy.stats import normaltest\n",
    "    colo = np.random.randint(3, size=1)\n",
    "    colors=[['r','gold','c','m'],\n",
    "            ['g','orange','b','hotpink'],\n",
    "            ['skyblue','coral','lightgreen','mediumslateblue'],\n",
    "           ['g','limegreen','orange','yellow']]\n",
    "    \n",
    "    try:\n",
    "        data_series = y_pred-y_test\n",
    "    except:\n",
    "        data_series=y_test\n",
    "    # Input the mean, standard deviation and lenght of the residuals\n",
    "    normal = np.random.normal(np.mean(data_series), np.std(data_series), len(data_series))\n",
    "\n",
    "    plt.figure(figsize=(16, 12))\n",
    "\n",
    "    plt.subplot(2, 2, 1)\n",
    "    plt.hist(data_series,color = colors[colo[0]][1],alpha = 0.8) #bins=40,\n",
    "    plt.hist(normal,color = colors[colo[0]][2], alpha = 0.2)\n",
    "\n",
    "    # Generate a Box Plot of solar system counts\n",
    "    plt.subplot(2, 2, 2)\n",
    "    plt.boxplot(data_series)\n",
    "\n",
    "    # Generate a QQ plot of the gamma distribution and the solar system counts \n",
    "    plt.subplot(2, 1, 2)\n",
    "    orderd_normal = sorted(normal)\n",
    "    ordered_data=sorted(data_series)\n",
    "    plt.scatter(ordered_data,orderd_normal, color = colors[colo[0]][3])\n",
    "    plt.plot(orderd_normal,orderd_normal,color= colors[colo[0]][0])\n",
    "    plt.title('QQPlot of residuals and normal Distribution')\n",
    "    plt.xlabel('residuals')\n",
    "    plt.ylabel('normaly distribution')\n",
    "    plt.show()\n",
    "\n",
    "    jb_stats = jarque_bera(data_series)\n",
    "    norm_stats = normaltest(data_series)\n",
    "    print('the Jarque berra stat is {}, and the pvalue is {}'.format(jb_stats[0],jb_stats[1]))\n",
    "    print(norm_stats)\n",
    "    \n",
    "    # elecResiduals = np.sort(result2_elect.resid[np.logical_not(np.isnan(result2_elect.resid))])\n",
    "    sorted_data_series = np.sort(data_series[np.logical_not(np.isnan(data_series))])\n",
    "\n",
    "    data_series_min = sorted_data_series.min()\n",
    "    data_series_max = sorted_data_series.max()\n",
    "    data_series_len = len(sorted_data_series)\n",
    "    data_series_std = np.std(sorted_data_series)\n",
    "    data_series_avg = np.mean(sorted_data_series)\n",
    "\n",
    "    print('the Minimum is {}'.format(data_series_min))\n",
    "    print('the Maximum is {}'.format(data_series_max))\n",
    "    print('the Length is {}'.format(data_series_len))\n",
    "    print('the Length is {}'.format(data_series_len))\n",
    "    print('the Standard Deviation is {}'.format(data_series_std))\n",
    "    print('the Mean is {}'.format(data_series_avg))\n",
    "    print('\\n')"
   ]
  },
  {
   "cell_type": "code",
   "execution_count": 78,
   "id": "807baab1",
   "metadata": {},
   "outputs": [],
   "source": [
    "import matplotlib\n",
    "matplotlib.use('Qt5Agg')  # Use an appropriate backend like 'Qt5Agg' for GUI display\n",
    "import matplotlib.pyplot as plt"
   ]
  },
  {
   "cell_type": "code",
   "execution_count": 79,
   "id": "d98b6236",
   "metadata": {},
   "outputs": [
    {
     "name": "stdout",
     "output_type": "stream",
     "text": [
      "the Jarque berra stat is 1.0312352396086275, and the pvalue is 0.5971316803540168\n",
      "NormaltestResult(statistic=3.6507931534719367, pvalue=0.16115372163861147)\n",
      "the Minimum is -3.190588185512868e-17\n",
      "the Maximum is 6.987754203356243e-18\n",
      "the Length is 9\n",
      "the Length is 9\n",
      "the Standard Deviation is 1.478008399826186e-17\n",
      "the Mean is -1.2874894675956763e-17\n",
      "\n",
      "\n"
     ]
    },
    {
     "name": "stderr",
     "output_type": "stream",
     "text": [
      "/opt/anaconda3/lib/python3.9/site-packages/scipy/stats/_stats_py.py:1769: UserWarning: kurtosistest only valid for n>=20 ... continuing anyway, n=9\n",
      "  warnings.warn(\"kurtosistest only valid for n>=20 ... continuing \"\n"
     ]
    }
   ],
   "source": [
    "# Plot the residuals, display feature coefficients, and create a QQ plot\n",
    "test_for_normality(y_test,y_pred)"
   ]
  },
  {
   "cell_type": "markdown",
   "id": "987837e5",
   "metadata": {},
   "source": [
    "**The warning regarding the kurtosis test indicates that it's typically valid for larger sample sizes (n >= 20). With a sample size of 9, it's recommended to use other statistical tests or methods to assess kurtosis accurately.**"
   ]
  },
  {
   "cell_type": "markdown",
   "id": "cdff6217",
   "metadata": {},
   "source": [
    "## II. df_mass_bna.csv (Massachusetts)"
   ]
  },
  {
   "cell_type": "markdown",
   "id": "aa0490b6",
   "metadata": {},
   "source": [
    "### 1. Load and clean data"
   ]
  },
  {
   "cell_type": "code",
   "execution_count": 80,
   "id": "9e4ca8d9",
   "metadata": {},
   "outputs": [
    {
     "name": "stderr",
     "output_type": "stream",
     "text": [
      "/var/folders/vw/dbzntfg96b58pmmcc2cxykdh0000gn/T/ipykernel_9521/3164059786.py:5: DtypeWarning: Columns (26,34,35,68,97) have mixed types. Specify dtype option on import or set low_memory=False.\n",
      "  df_mass_bna = pd.read_csv('/Users/margaret06/Documents/GitHub/Carlisle_Borough_Transportation_Study/data/df_mass_bna.csv')\n"
     ]
    }
   ],
   "source": [
    "# Create a blank dataframe\n",
    "df_mass_bna = pd.DataFrame()\n",
    "\n",
    "# Read the csv file \n",
    "df_mass_bna = pd.read_csv('./data/df_mass_bna.csv')\n",
    "\n",
    "# Clean datasets\n",
    "df_mass_crash = df_mass_bna.drop(columns = ['Unnamed: 0'])\n",
    "\n",
    "# Exclude the NaN from 'VEHC_CONFIG_CL'\n",
    "df_mass_crash = df_mass_crash[df_mass_crash['VEHC_CONFIG_CL'].notna()]\n",
    "\n",
    "# List of NOT automobiles: Snowmobile, Moped, Motorcycle, Other Light Trucks (10,000 lbs., or Less), Other e.g. Farm Equipment, Unknown.\n",
    "# Exclude the non-automobiles from 'VEHC_CONFIG_CL' columns\n",
    "list_non_automobiles = ['V1:(Unknown vehicle configuration)', 'V1:(Other e.g. farm equipment)', 'V1:(Unknown vehicle configuration) / V2:(Unknown vehicle configuration)']\n",
    "df_mass_crash= df_mass_crash[~df_mass_crash['VEHC_CONFIG_CL'].isin(list_non_automobiles)]"
   ]
  },
  {
   "cell_type": "code",
   "execution_count": 81,
   "id": "629e0aa6",
   "metadata": {},
   "outputs": [],
   "source": [
    "# Fatal - injuries that resulted in death \n",
    "# Incapacitating - serious injuries require immediate medical attention\n",
    "\n",
    "## BICYCLE_DEATH_BY_AUTO_COUNT\n",
    "# Filter the DataFrame for cyclist fatalities\n",
    "cyclist_fatalities = df_mass_crash[(df_mass_crash['INJY_STAT_DESCR'] == 'Fatal injury (K)') & (df_mass_crash['NON_MTRST_TYPE_CL'] == 'Cyclist')]\n",
    "\n",
    "# Group the filtered DataFrame by 'CITY_TOWN_NAME' and calculate the count for each city\n",
    "bicycle_death_counts = cyclist_fatalities.groupby('CITY_TOWN_NAME').size().reset_index(name='BICYCLE_DEATH_BY_AUTO_COUNT')\n",
    "\n",
    "# Merge the bicycle_death_counts DataFrame into df_mass_crash on 'CITY_TOWN_NAME'\n",
    "df_mass_crash = df_mass_crash.merge(bicycle_death_counts, on='CITY_TOWN_NAME', how='left')\n",
    "\n",
    "## BICYCLE_SUSP_SERIOUS_INJ_BY_AUTO_COUNT\n",
    "cyclist_incapacitating = df_mass_crash[(df_mass_crash['INJY_STAT_DESCR'] == 'Non-fatal injury - Incapacitating') & (df_mass_crash['NON_MTRST_TYPE_CL'] == 'Cyclist')]\n",
    "bicycle_sus_serious_inj_counts = cyclist_incapacitating.groupby('CITY_TOWN_NAME').size().reset_index(name='BICYCLE_SUSP_SERIOUS_INJ_BY_AUTO_COUNT')\n",
    "\n",
    "# Merge the bicycle_sus_serious_inj_counts DataFrame into df_mass_crash on 'CITY_TOWN_NAME'\n",
    "df_mass_crash = df_mass_crash.merge(bicycle_sus_serious_inj_counts, on='CITY_TOWN_NAME', how='left')\n",
    "\n",
    "# Replace NaN values with 0 in the specified columns\n",
    "df_mass_crash['BICYCLE_DEATH_BY_AUTO_COUNT'].fillna(0, inplace=True)\n",
    "df_mass_crash['BICYCLE_SUSP_SERIOUS_INJ_BY_AUTO_COUNT'].fillna(0, inplace=True)\n",
    "\n",
    "## BICYCLE_BY_AUTO_COUNT\n",
    "df_mass_crash['BICYCLE_BY_AUTO_COUNT'] = df_mass_crash['BICYCLE_DEATH_BY_AUTO_COUNT'] + df_mass_crash['BICYCLE_SUSP_SERIOUS_INJ_BY_AUTO_COUNT']\n",
    "\n",
    "## AUTOMOBILE_COUNT\n",
    "auto_count = df_mass_crash.groupby('CITY_TOWN_NAME')['NUMB_VEHC'].sum().reset_index()\n",
    "auto_count.rename(columns={'NUMB_VEHC': 'AUTOMOBILE_COUNT'}, inplace=True)\n",
    "# Merge the auto_count into df_mass_crash on 'CITY_TOWN_NAME'\n",
    "df_mass_crash = df_mass_crash.merge(auto_count, on='CITY_TOWN_NAME', how='left')\n",
    "\n",
    "## PED_DEATH_BY_AUTO_COUNT\n",
    "# Filter the DataFrame for pedestrian fatalities\n",
    "ped_fatalities = df_mass_crash[(df_mass_crash['INJY_STAT_DESCR'] == 'Fatal injury (K)') & (df_mass_crash['NON_MTRST_TYPE_CL'] == 'Pedestrian')]\n",
    "\n",
    "# Group the filtered DataFrame by 'CITY_TOWN_NAME' and calculate the count for each city\n",
    "ped_death_counts = cyclist_fatalities.groupby('CITY_TOWN_NAME').size().reset_index(name='PED_DEATH_BY_AUTO_COUNT')\n",
    "\n",
    "# Merge the ped_death_counts DataFrame into df_mass_crash on 'CITY_TOWN_NAME'\n",
    "df_mass_crash = df_mass_crash.merge(ped_death_counts, on='CITY_TOWN_NAME', how='left')\n",
    "\n",
    "## PED_SUSP_SERIOUS_INJ_BY_AUTO_COUNT\n",
    "ped_incapacitating = df_mass_crash[(df_mass_crash['INJY_STAT_DESCR'] == 'Non-fatal injury - Incapacitating') & (df_mass_crash['NON_MTRST_TYPE_CL'] == 'Pedestrian')]\n",
    "ped_sus_serious_inj_counts = ped_incapacitating.groupby('CITY_TOWN_NAME').size().reset_index(name='PED_SUSP_SERIOUS_INJ_BY_AUTO_COUNT')\n",
    "\n",
    "# Merge the ped_sus_serious_inj_counts DataFrame into df_mass_crash on 'CITY_TOWN_NAME'\n",
    "df_mass_crash = df_mass_crash.merge(ped_sus_serious_inj_counts, on='CITY_TOWN_NAME', how='left')\n",
    "\n",
    "# Replace NaN values with 0 in the specified columns\n",
    "df_mass_crash['PED_DEATH_BY_AUTO_COUNT'].fillna(0, inplace=True)\n",
    "df_mass_crash['PED_SUSP_SERIOUS_INJ_BY_AUTO_COUNT'].fillna(0, inplace=True)\n",
    "\n",
    "##PED_BY_AUTO_COUNT\n",
    "df_mass_crash['PED_BY_AUTO_COUNT'] = df_mass_crash['PED_DEATH_BY_AUTO_COUNT'] + df_mass_crash['PED_SUSP_SERIOUS_INJ_BY_AUTO_COUNT']\n",
    "\n",
    "# Drop the duplicated rows\n",
    "df_mass_crash = df_mass_crash.drop_duplicates(subset=['CITY_TOWN_NAME', 'BNA Score', 'POPULATION', \n",
    "                                                      'BIKE_TO_WORK_EST', 'BICYCLE_BY_AUTO_COUNT', \n",
    "                                                      'BICYCLE_DEATH_BY_AUTO_COUNT', \"AUTOMOBILE_COUNT\",\n",
    "                                                      'BICYCLE_SUSP_SERIOUS_INJ_BY_AUTO_COUNT', \n",
    "                                                      'AUTOMOBILE_COUNT', 'PED_BY_AUTO_COUNT', \n",
    "                                                      'PED_DEATH_BY_AUTO_COUNT', 'PED_SUSP_SERIOUS_INJ_BY_AUTO_COUNT'])"
   ]
  },
  {
   "cell_type": "code",
   "execution_count": 82,
   "id": "6f3f87bf",
   "metadata": {},
   "outputs": [],
   "source": [
    "# Fix error\n",
    "df_mass_crash = df_mass_crash.copy()\n",
    "\n",
    "# Select columns with numeric data types (int or float) using select_dtypes\n",
    "numeric_columns = df_mass_crash.select_dtypes(include=['number'])\n",
    "\n",
    "# Create a new DataFrame with only the numeric columns\n",
    "df_mass_crash = df_mass_crash[numeric_columns.columns]\n",
    "\n",
    "# Rename BNA Score column to BNA_SCORE column\n",
    "df_mass_crash.rename(columns={'BNA Score': 'BNA_SCORE'}, inplace=True)\n",
    "\n",
    "# Reset index\n",
    "df_mass_crash.reset_index(drop = True, inplace = True)"
   ]
  },
  {
   "cell_type": "code",
   "execution_count": 83,
   "id": "6f6cf23f",
   "metadata": {},
   "outputs": [],
   "source": [
    "# Define the columns for which you want to calculate per capita values\n",
    "columns_to_convert = [\n",
    "    'BIKE_TO_WORK_EST', 'BIKE_TO_WORK_MARG',\n",
    "    'WALK_TO_WORK_EST', 'WALK_TO_WORK_MARG', 'DRIVE_SOLO_TO_WORK_EST',\n",
    "    'DRIVE_SOLO_TO_WORK_MARG', 'CARPOOL_TO_WORK_EST',\n",
    "    'CARPOOL_TO_WORK_MARG', 'PUBTRANS_TO_WORK_EST',\n",
    "    'PUBTRANS_TO_WORK_MARG', 'AUTOMOBILE_COUNT',\n",
    "    'BICYCLE_BY_AUTO_COUNT', 'BICYCLE_DEATH_BY_AUTO_COUNT',\n",
    "    'BICYCLE_SUSP_SERIOUS_INJ_BY_AUTO_COUNT', 'PED_BY_AUTO_COUNT',\n",
    "    'PED_DEATH_BY_AUTO_COUNT', 'PED_SUSP_SERIOUS_INJ_BY_AUTO_COUNT']\n",
    "\n",
    "# Create new columns with \"_PER_CAPITA\" suffix by dividing each column by 'POPULATION'\n",
    "for column in columns_to_convert:\n",
    "    new_column_name = column + '_PER_CAPITA'\n",
    "    df_mass_crash[new_column_name] = df_mass_crash[column] / df_mass_crash['POPULATION']"
   ]
  },
  {
   "cell_type": "code",
   "execution_count": 84,
   "id": "3ed343d1",
   "metadata": {},
   "outputs": [],
   "source": [
    "# Drop unnessary columns\n",
    "df_mass_crash = df_mass_crash.drop(['OBJECTID', 'CRASH_NUMB', 'NUMB_VEHC', 'NUMB_NONFATAL_INJR',\n",
    "       'NUMB_FATAL_INJR', 'MILEMARKER', 'X', 'Y', 'LAT', 'LON', 'YEAR',\n",
    "       'DISTRICT_NUM', 'SPEED_LIMIT', 'AADT', 'AADT_YEAR', 'PK_PCT_SUT',\n",
    "       'AV_PCT_SUT', 'PK_PCT_CT', 'AV_PCT_CT', 'LT_SIDEWLK', 'RT_SIDEWLK',\n",
    "       'SHLDR_LT_W', 'SURFACE_WD', 'SHLDR_RT_W', 'NUM_LANES', 'OPP_LANES',\n",
    "       'MED_WIDTH', 'PEAK_LANE', 'SPEED_LIM', 'STATN_NUM', 'OP_DIR_SL',\n",
    "       'SHLDR_UL_W', 'VEHC_UNIT_NUMB', 'DRIVER_AGE', 'TOTAL_OCCPT_IN_VEHC',\n",
    "       'PERS_NUMB', 'AGE', 'state', 'county', 'county_subdivision'], axis=1)"
   ]
  },
  {
   "cell_type": "markdown",
   "id": "fa446bb2",
   "metadata": {},
   "source": [
    "**Perform Exploratory Data Analysis (EDA) to check for multicollinearity among the independent variables in the dataset**"
   ]
  },
  {
   "cell_type": "code",
   "execution_count": 85,
   "id": "2ee14bef",
   "metadata": {},
   "outputs": [
    {
     "data": {
      "text/plain": [
       "POPULATION                                           0\n",
       "BIKE_TO_WORK_EST                                     0\n",
       "BIKE_TO_WORK_MARG                                    0\n",
       "WALK_TO_WORK_EST                                     0\n",
       "WALK_TO_WORK_MARG                                    0\n",
       "DRIVE_SOLO_TO_WORK_EST                               0\n",
       "DRIVE_SOLO_TO_WORK_MARG                              0\n",
       "CARPOOL_TO_WORK_EST                                  0\n",
       "CARPOOL_TO_WORK_MARG                                 0\n",
       "PUBTRANS_TO_WORK_EST                                 0\n",
       "PUBTRANS_TO_WORK_MARG                                0\n",
       "BNA_SCORE                                            0\n",
       "BICYCLE_DEATH_BY_AUTO_COUNT                          0\n",
       "BICYCLE_SUSP_SERIOUS_INJ_BY_AUTO_COUNT               0\n",
       "BICYCLE_BY_AUTO_COUNT                                0\n",
       "AUTOMOBILE_COUNT                                     0\n",
       "PED_DEATH_BY_AUTO_COUNT                              0\n",
       "PED_SUSP_SERIOUS_INJ_BY_AUTO_COUNT                   0\n",
       "PED_BY_AUTO_COUNT                                    0\n",
       "BIKE_TO_WORK_EST_PER_CAPITA                          0\n",
       "BIKE_TO_WORK_MARG_PER_CAPITA                         0\n",
       "WALK_TO_WORK_EST_PER_CAPITA                          0\n",
       "WALK_TO_WORK_MARG_PER_CAPITA                         0\n",
       "DRIVE_SOLO_TO_WORK_EST_PER_CAPITA                    0\n",
       "DRIVE_SOLO_TO_WORK_MARG_PER_CAPITA                   0\n",
       "CARPOOL_TO_WORK_EST_PER_CAPITA                       0\n",
       "CARPOOL_TO_WORK_MARG_PER_CAPITA                      0\n",
       "PUBTRANS_TO_WORK_EST_PER_CAPITA                      0\n",
       "PUBTRANS_TO_WORK_MARG_PER_CAPITA                     0\n",
       "AUTOMOBILE_COUNT_PER_CAPITA                          0\n",
       "BICYCLE_BY_AUTO_COUNT_PER_CAPITA                     0\n",
       "BICYCLE_DEATH_BY_AUTO_COUNT_PER_CAPITA               0\n",
       "BICYCLE_SUSP_SERIOUS_INJ_BY_AUTO_COUNT_PER_CAPITA    0\n",
       "PED_BY_AUTO_COUNT_PER_CAPITA                         0\n",
       "PED_DEATH_BY_AUTO_COUNT_PER_CAPITA                   0\n",
       "PED_SUSP_SERIOUS_INJ_BY_AUTO_COUNT_PER_CAPITA        0\n",
       "dtype: int64"
      ]
     },
     "execution_count": 85,
     "metadata": {},
     "output_type": "execute_result"
    }
   ],
   "source": [
    "# Check for NaN missing values\n",
    "df_mass_crash.isna().sum()"
   ]
  },
  {
   "cell_type": "markdown",
   "id": "9044ea8a",
   "metadata": {},
   "source": [
    "**Use Pandas Profiling**"
   ]
  },
  {
   "cell_type": "code",
   "execution_count": 86,
   "id": "10f41854",
   "metadata": {},
   "outputs": [],
   "source": [
    "#pp.ProfileReport(df_mass_crash)"
   ]
  },
  {
   "cell_type": "code",
   "execution_count": 87,
   "id": "1107f195",
   "metadata": {},
   "outputs": [],
   "source": [
    "# Drop independent variables that are highly correlated\n",
    "df_mass_filtered = df_mass_crash.drop(['BIKE_TO_WORK_EST', 'BIKE_TO_WORK_MARG',\n",
    "       'WALK_TO_WORK_EST', 'WALK_TO_WORK_MARG', 'DRIVE_SOLO_TO_WORK_EST',\n",
    "       'DRIVE_SOLO_TO_WORK_MARG', 'CARPOOL_TO_WORK_EST',\n",
    "       'CARPOOL_TO_WORK_MARG', 'PUBTRANS_TO_WORK_EST', 'PUBTRANS_TO_WORK_MARG',\n",
    "       'BNA_SCORE', 'BICYCLE_DEATH_BY_AUTO_COUNT',\n",
    "       'BICYCLE_SUSP_SERIOUS_INJ_BY_AUTO_COUNT', 'BICYCLE_BY_AUTO_COUNT',\n",
    "       'AUTOMOBILE_COUNT', 'PED_DEATH_BY_AUTO_COUNT',\n",
    "       'PED_SUSP_SERIOUS_INJ_BY_AUTO_COUNT', 'PED_BY_AUTO_COUNT'], axis=1)"
   ]
  },
  {
   "cell_type": "markdown",
   "id": "1eca740c",
   "metadata": {},
   "source": [
    "### 2. Fit the linear regression using [scikit-learn](https://scikit-learn.org/stable/modules/generated/sklearn.linear_model.LinearRegression.html)"
   ]
  },
  {
   "cell_type": "markdown",
   "id": "71fe94e8",
   "metadata": {},
   "source": [
    "**Separate data set in Y(independent) and X (dependent) variable**"
   ]
  },
  {
   "cell_type": "code",
   "execution_count": 88,
   "id": "fa34de55",
   "metadata": {},
   "outputs": [],
   "source": [
    "y2 = df_mass_filtered[\"BICYCLE_BY_AUTO_COUNT_PER_CAPITA\"] # Y = df_mass_filtered.BICYCLE_BY_AUTO_COUNT_PER_CAPITA\n",
    "X2 = df_mass_filtered.loc[:, df_mass_filtered.columns != \"BICYCLE_BY_AUTO_COUNT_PER_CAPITA\"] # I want all columns except the BICYCLE_BY_AUTO_COUNT_PER_CAPITA column which is the dependent variable"
   ]
  },
  {
   "cell_type": "markdown",
   "id": "57d599d2",
   "metadata": {},
   "source": [
    "**Use the train_test_split function to split your data into training (80%) and testing set (20%)**"
   ]
  },
  {
   "cell_type": "code",
   "execution_count": 89,
   "id": "1ebdcb9f",
   "metadata": {},
   "outputs": [],
   "source": [
    "X_train, X_test, y_train, y_test = train_test_split(X2, y2, test_size=0.2, random_state=5)"
   ]
  },
  {
   "cell_type": "markdown",
   "id": "cb92030b",
   "metadata": {},
   "source": [
    "**Fit, run or estimate the regression model**"
   ]
  },
  {
   "cell_type": "code",
   "execution_count": 90,
   "id": "4a0e5b4e",
   "metadata": {},
   "outputs": [
    {
     "data": {
      "text/plain": [
       "LinearRegression()"
      ]
     },
     "execution_count": 90,
     "metadata": {},
     "output_type": "execute_result"
    }
   ],
   "source": [
    "model = LinearRegression() # Create an instance of the linear regression class\n",
    "model.fit(X_train, y_train)"
   ]
  },
  {
   "cell_type": "code",
   "execution_count": 91,
   "id": "61cf92ed",
   "metadata": {},
   "outputs": [
    {
     "data": {
      "text/plain": [
       "array([ 3.44574766e-23, -3.98579824e-17,  1.28142003e-16,  1.28850652e-17,\n",
       "       -3.87454046e-17, -9.21571847e-19, -1.44165008e-17, -1.40552412e-17,\n",
       "        1.63045372e-17,  7.69783542e-18,  7.17691016e-18,  8.60662766e-17,\n",
       "        4.00000000e-01,  1.00000000e+00,  2.00000000e-01,  4.00000000e-01,\n",
       "       -2.00000000e-01])"
      ]
     },
     "execution_count": 91,
     "metadata": {},
     "output_type": "execute_result"
    }
   ],
   "source": [
    "model.coef_"
   ]
  },
  {
   "cell_type": "code",
   "execution_count": 92,
   "id": "db716f37",
   "metadata": {},
   "outputs": [
    {
     "name": "stdout",
     "output_type": "stream",
     "text": [
      "-2.337810934421869e-18 [ 3.44574766e-23 -3.98579824e-17  1.28142003e-16  1.28850652e-17\n",
      " -3.87454046e-17 -9.21571847e-19 -1.44165008e-17 -1.40552412e-17\n",
      "  1.63045372e-17  7.69783542e-18  7.17691016e-18  8.60662766e-17\n",
      "  4.00000000e-01  1.00000000e+00  2.00000000e-01  4.00000000e-01\n",
      " -2.00000000e-01] 1.0\n"
     ]
    }
   ],
   "source": [
    "print(model.intercept_, model.coef_,model.score(X_test, y_test)) # Model score gives you the R-squared"
   ]
  },
  {
   "cell_type": "markdown",
   "id": "5e31872d",
   "metadata": {},
   "source": [
    "**Use the independent variables in the testing set, to predict the dependent variables**"
   ]
  },
  {
   "cell_type": "code",
   "execution_count": 93,
   "id": "37ca3374",
   "metadata": {},
   "outputs": [],
   "source": [
    "y_pred = model.predict(X_test)"
   ]
  },
  {
   "cell_type": "markdown",
   "id": "e6481814",
   "metadata": {},
   "source": [
    "**Use the test set, check how well the model does in terms of error metrics**"
   ]
  },
  {
   "cell_type": "code",
   "execution_count": 94,
   "id": "6546cc3d",
   "metadata": {},
   "outputs": [
    {
     "data": {
      "text/plain": [
       "(2.4736008873257636e-36, 1.3799107858491724e-18, 0.002503289116764399)"
      ]
     },
     "execution_count": 94,
     "metadata": {},
     "output_type": "execute_result"
    }
   ],
   "source": [
    "MAE = mean_absolute_error(y_test,y_pred)\n",
    "MSE = mean_squared_error(y_test,y_pred)\n",
    "MAPE =  mean_absolute_percentage_error(y_test,y_pred)\n",
    "MSE, MAE, MAPE"
   ]
  },
  {
   "cell_type": "markdown",
   "id": "ba50abe9",
   "metadata": {},
   "source": [
    "### 3. Fit the linear regression using [Statsmodels](https://www.statsmodels.org/stable/index.html)"
   ]
  },
  {
   "cell_type": "code",
   "execution_count": 95,
   "id": "76325e32",
   "metadata": {},
   "outputs": [],
   "source": [
    "X_train = sm.add_constant(X_train)\n",
    "model2 = sm.OLS(y_train, X_train).fit()"
   ]
  },
  {
   "cell_type": "code",
   "execution_count": 96,
   "id": "271f5a9b",
   "metadata": {},
   "outputs": [
    {
     "name": "stdout",
     "output_type": "stream",
     "text": [
      "                                   OLS Regression Results                                   \n",
      "============================================================================================\n",
      "Dep. Variable:     BICYCLE_BY_AUTO_COUNT_PER_CAPITA   R-squared:                       1.000\n",
      "Model:                                          OLS   Adj. R-squared:                  1.000\n",
      "Method:                               Least Squares   F-statistic:                 4.470e+20\n",
      "Date:                              Sun, 26 Nov 2023   Prob (F-statistic):          7.03e-202\n",
      "Time:                                      23:19:07   Log-Likelihood:                 1145.8\n",
      "No. Observations:                                36   AIC:                            -2260.\n",
      "Df Residuals:                                    20   BIC:                            -2234.\n",
      "Df Model:                                        15                                         \n",
      "Covariance Type:                          nonrobust                                         \n",
      "=====================================================================================================================\n",
      "                                                        coef    std err          t      P>|t|      [0.025      0.975]\n",
      "---------------------------------------------------------------------------------------------------------------------\n",
      "const                                             -2.067e-19   1.35e-14  -1.53e-05      1.000   -2.82e-14    2.82e-14\n",
      "POPULATION                                        -2.842e-20   1.48e-20     -1.926      0.068   -5.92e-20    2.36e-21\n",
      "BIKE_TO_WORK_EST_PER_CAPITA                        1.887e-17   2.63e-13   7.19e-05      1.000   -5.48e-13    5.48e-13\n",
      "BIKE_TO_WORK_MARG_PER_CAPITA                      -3.773e-17   1.01e-12  -3.74e-05      1.000    -2.1e-12     2.1e-12\n",
      "WALK_TO_WORK_EST_PER_CAPITA                       -7.373e-18   9.09e-14  -8.11e-05      1.000    -1.9e-13     1.9e-13\n",
      "WALK_TO_WORK_MARG_PER_CAPITA                       9.975e-18   2.53e-13   3.95e-05      1.000   -5.27e-13    5.27e-13\n",
      "DRIVE_SOLO_TO_WORK_EST_PER_CAPITA                 -7.047e-19   3.13e-14  -2.25e-05      1.000   -6.53e-14    6.53e-14\n",
      "DRIVE_SOLO_TO_WORK_MARG_PER_CAPITA                 5.638e-18   3.17e-13   1.78e-05      1.000   -6.61e-13    6.61e-13\n",
      "CARPOOL_TO_WORK_EST_PER_CAPITA                     3.361e-18   1.59e-13   2.12e-05      1.000   -3.31e-13    3.31e-13\n",
      "CARPOOL_TO_WORK_MARG_PER_CAPITA                   -1.691e-17    6.2e-13  -2.73e-05      1.000   -1.29e-12    1.29e-12\n",
      "PUBTRANS_TO_WORK_EST_PER_CAPITA                   -1.816e-18   6.08e-14  -2.99e-05      1.000   -1.27e-13    1.27e-13\n",
      "PUBTRANS_TO_WORK_MARG_PER_CAPITA                   2.689e-17   4.79e-13   5.61e-05      1.000   -9.99e-13    9.99e-13\n",
      "AUTOMOBILE_COUNT_PER_CAPITA                        1.279e-17   4.36e-13   2.94e-05      1.000   -9.09e-13    9.09e-13\n",
      "BICYCLE_DEATH_BY_AUTO_COUNT_PER_CAPITA                0.4000   4.16e-11   9.61e+09      0.000       0.400       0.400\n",
      "BICYCLE_SUSP_SERIOUS_INJ_BY_AUTO_COUNT_PER_CAPITA     1.0000   3.87e-11   2.59e+10      0.000       1.000       1.000\n",
      "PED_BY_AUTO_COUNT_PER_CAPITA                          0.2000   2.35e-11    8.5e+09      0.000       0.200       0.200\n",
      "PED_DEATH_BY_AUTO_COUNT_PER_CAPITA                    0.4000   4.16e-11   9.61e+09      0.000       0.400       0.400\n",
      "PED_SUSP_SERIOUS_INJ_BY_AUTO_COUNT_PER_CAPITA        -0.2000   2.13e-11  -9.38e+09      0.000      -0.200      -0.200\n",
      "==============================================================================\n",
      "Omnibus:                       71.367   Durbin-Watson:                   1.513\n",
      "Prob(Omnibus):                  0.000   Jarque-Bera (JB):              869.087\n",
      "Skew:                           4.620   Prob(JB):                    1.91e-189\n",
      "Kurtosis:                      25.227   Cond. No.                     6.62e+26\n",
      "==============================================================================\n",
      "\n",
      "Notes:\n",
      "[1] Standard Errors assume that the covariance matrix of the errors is correctly specified.\n",
      "[2] The smallest eigenvalue is 1.35e-42. This might indicate that there are\n",
      "strong multicollinearity problems or that the design matrix is singular.\n"
     ]
    }
   ],
   "source": [
    "print(model2.summary())"
   ]
  },
  {
   "cell_type": "markdown",
   "id": "e54b09dd",
   "metadata": {},
   "source": [
    "**According to the results from Statsmodels, in the 80% training set, the estimated coefficients, including BICYCLE_DEATH_BY_AUTO_COUNT_PER_CAPITA, BICYCLE_SUSP_SERIOUS_INJ_BY_AUTO_COUNT_PER_CAPITA, PED_BY_AUTO_COUNT_PER_CAPITA, PED_DEATH_BY_AUTO_COUNT_PER_CAPITA, PED_SUSP_SERIOUS_INJ_BY_AUTO_COUNT_PER_CAPITA,  are statistically significant at the 5% level of significance.**"
   ]
  },
  {
   "cell_type": "markdown",
   "id": "25650c66",
   "metadata": {},
   "source": [
    "**In-sample prediction**"
   ]
  },
  {
   "cell_type": "code",
   "execution_count": 97,
   "id": "0878c1ef",
   "metadata": {},
   "outputs": [
    {
     "data": {
      "text/plain": [
       "const                                               -2.066760e-19\n",
       "POPULATION                                          -2.841655e-20\n",
       "BIKE_TO_WORK_EST_PER_CAPITA                          1.886512e-17\n",
       "BIKE_TO_WORK_MARG_PER_CAPITA                        -3.773024e-17\n",
       "WALK_TO_WORK_EST_PER_CAPITA                         -7.372575e-18\n",
       "WALK_TO_WORK_MARG_PER_CAPITA                         9.974660e-18\n",
       "DRIVE_SOLO_TO_WORK_EST_PER_CAPITA                   -7.047314e-19\n",
       "DRIVE_SOLO_TO_WORK_MARG_PER_CAPITA                   5.637851e-18\n",
       "CARPOOL_TO_WORK_EST_PER_CAPITA                       3.361027e-18\n",
       "CARPOOL_TO_WORK_MARG_PER_CAPITA                     -1.691355e-17\n",
       "PUBTRANS_TO_WORK_EST_PER_CAPITA                     -1.816039e-18\n",
       "PUBTRANS_TO_WORK_MARG_PER_CAPITA                     2.688821e-17\n",
       "AUTOMOBILE_COUNT_PER_CAPITA                          1.279359e-17\n",
       "BICYCLE_DEATH_BY_AUTO_COUNT_PER_CAPITA               4.000000e-01\n",
       "BICYCLE_SUSP_SERIOUS_INJ_BY_AUTO_COUNT_PER_CAPITA    1.000000e+00\n",
       "PED_BY_AUTO_COUNT_PER_CAPITA                         2.000000e-01\n",
       "PED_DEATH_BY_AUTO_COUNT_PER_CAPITA                   4.000000e-01\n",
       "PED_SUSP_SERIOUS_INJ_BY_AUTO_COUNT_PER_CAPITA       -2.000000e-01\n",
       "dtype: float64"
      ]
     },
     "execution_count": 97,
     "metadata": {},
     "output_type": "execute_result"
    }
   ],
   "source": [
    "ypred2 = model2.predict(X_train)\n",
    "model2.params"
   ]
  },
  {
   "cell_type": "markdown",
   "id": "09dd9c0c",
   "metadata": {},
   "source": [
    "### 4. Plot the residuals, display feature coefficients, and create a QQ plot"
   ]
  },
  {
   "cell_type": "markdown",
   "id": "910c30c0",
   "metadata": {},
   "source": [
    "### Credit:\n",
    "\n",
    "The following code is based on the work of my supervisor, Mitch Shiles. The original code can be found at this link: [Mitch Shiles' GitHub](https://github.com/rmshiles/Custom-Data-Tools/blob/main/testing%20for%20normality%20.ipynb)."
   ]
  },
  {
   "cell_type": "code",
   "execution_count": 98,
   "id": "c3dc8433",
   "metadata": {},
   "outputs": [
    {
     "name": "stdout",
     "output_type": "stream",
     "text": [
      "the Jarque berra stat is 0.2900874877560054, and the pvalue is 0.8649844545086915\n",
      "NormaltestResult(statistic=0.43377594404878, pvalue=0.8050201490312022)\n",
      "the Minimum is -2.757939276260002e-18\n",
      "the Maximum is 1.6127507315721878e-18\n",
      "the Length is 9\n",
      "the Length is 9\n",
      "the Standard Deviation is 1.3125990431518983e-18\n",
      "the Mean is -8.664205902692321e-19\n",
      "\n",
      "\n"
     ]
    },
    {
     "name": "stderr",
     "output_type": "stream",
     "text": [
      "/opt/anaconda3/lib/python3.9/site-packages/scipy/stats/_stats_py.py:1769: UserWarning: kurtosistest only valid for n>=20 ... continuing anyway, n=9\n",
      "  warnings.warn(\"kurtosistest only valid for n>=20 ... continuing \"\n"
     ]
    }
   ],
   "source": [
    "# Plot the residuals, display feature coefficients, and create a QQ plot\n",
    "test_for_normality(y_test,y_pred)"
   ]
  },
  {
   "cell_type": "markdown",
   "id": "2dff279a",
   "metadata": {},
   "source": [
    "**The warning regarding the kurtosis test indicates that it's typically valid for larger sample sizes (n >= 20). With a sample size of 9, it's recommended to use other statistical tests or methods to assess kurtosis accurately.**"
   ]
  }
 ],
 "metadata": {
  "kernelspec": {
   "display_name": "Python 3 (ipykernel)",
   "language": "python",
   "name": "python3"
  },
  "language_info": {
   "codemirror_mode": {
    "name": "ipython",
    "version": 3
   },
   "file_extension": ".py",
   "mimetype": "text/x-python",
   "name": "python",
   "nbconvert_exporter": "python",
   "pygments_lexer": "ipython3",
   "version": "3.9.13"
  }
 },
 "nbformat": 4,
 "nbformat_minor": 5
}
