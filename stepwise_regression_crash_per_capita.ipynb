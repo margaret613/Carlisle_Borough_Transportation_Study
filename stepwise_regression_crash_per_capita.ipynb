{
 "cells": [
  {
   "cell_type": "markdown",
   "id": "6873bcde",
   "metadata": {},
   "source": [
    "## Name: Margaret Nguyen\n",
    "\n",
    "# Exploring the Impact of Infrastructure on Incident Rates for Vulnerable Road Users: A Machine Learning Analysis\n",
    "\n",
    "**Assignment: Use the 'POPULATION' variable to conduct stepwise regression. This coding file is intended for the dataset without BNA score.**"
   ]
  },
  {
   "cell_type": "code",
   "execution_count": 144,
   "id": "bd7158b2",
   "metadata": {},
   "outputs": [],
   "source": [
    "# Import packages\n",
    "import numpy as np # v 1.21.5\n",
    "import sklearn # v 1.0.2\n",
    "import pandas as pd # v 1.4.4\n",
    "import ydata_profiling as pp # v 3.6.6\n",
    "import statsmodels.api as sm # v 0.13.2\n",
    "from mlxtend.feature_selection import SequentialFeatureSelector # v 0.23.0\n",
    "\n",
    "# Regression\n",
    "from sklearn.linear_model import LinearRegression # v 1.0.2\n",
    "from sklearn.model_selection import train_test_split # v 1.0.2\n",
    "\n",
    "# PCA\n",
    "from sklearn.decomposition import PCA # v 1.0.2\n",
    "from sklearn.preprocessing import StandardScaler # v 1.0.2\n",
    "\n",
    "from sklearn.metrics import mean_absolute_error # v 1.0.2\n",
    "from sklearn.metrics import mean_squared_error # v 1.0.2\n",
    "from sklearn.metrics import mean_absolute_percentage_error # v 1.0.2\n",
    "\n",
    "# Ploting libraries \n",
    "import matplotlib\n",
    "#matplotlib.use('Qt5Agg')  # Use an appropriate backend like 'Qt5Agg' for GUI display\n",
    "import matplotlib.pyplot as plt # v 3.5.2\n",
    "import seaborn as sns # v 0.11.2\n",
    "# Display any generated plots or visualizations directly in the notebook interface\n",
    "%matplotlib inline "
   ]
  },
  {
   "cell_type": "markdown",
   "id": "ca71b80c",
   "metadata": {},
   "source": [
    "# I. Data Manipulation"
   ]
  },
  {
   "cell_type": "code",
   "execution_count": 145,
   "id": "05cd8088",
   "metadata": {},
   "outputs": [],
   "source": [
    "# Read the csv file \n",
    "df_pa_acs = pd.read_csv('/Users/margaret06/Documents/GitHub/Carlisle_Borough_Transportation_Study/data/2017_TO_2021_MUNI_CRASH_DATA.csv')\n",
    "\n",
    "df_mass_acs = pd.read_csv('/Users/margaret06/Documents/GitHub/Carlisle_Borough_Transportation_Study/data/df_mass_acs.csv', low_memory=False)\n",
    "\n",
    "df_col_acs = pd.read_csv('/Users/margaret06/Documents/GitHub/Carlisle_Borough_Transportation_Study/data/df_col_acs.csv')"
   ]
  },
  {
   "cell_type": "markdown",
   "id": "7a5bd0c4",
   "metadata": {},
   "source": [
    "## A. Clean the Pennsylvania Crash Dataset"
   ]
  },
  {
   "cell_type": "code",
   "execution_count": 146,
   "id": "95567659",
   "metadata": {},
   "outputs": [],
   "source": [
    "# Clean datasets\n",
    "df_pa_acs.drop(columns = ['Unnamed: 0'], inplace=True)\n",
    "\n",
    "# Select columns with numeric data types (int or float) using select_dtypes\n",
    "numeric_columns = df_pa_acs.select_dtypes(include=['number'])\n",
    "\n",
    "# Create a new DataFrame with only the numeric columns\n",
    "df_pa_crash = df_pa_acs[numeric_columns.columns]\n",
    "\n",
    "# Drop unnessary columns\n",
    "df_pa_crash = df_pa_crash.drop(['PENN_DOT_MUNI_ID', 'state', 'county', 'county_subdivision', 'LAND_AREA.1', 'LAND_AREA', 'PENN_DOT_COUNTY_NUM', 'FEDERAL_EIN_CODE', 'HOME_RULE_YEAR', 'INCORPORATION_YEAR', 'MUNICIPALITY'], axis=1)\n",
    "\n",
    "# Replace NaN values with 0 throughout the DataFrame to address missing data, following the experience of cleaning the original dataset.\n",
    "df_pa_crash = df_pa_crash.fillna(0)\n",
    "\n",
    "# Drop population == 0 (small municipalities)\n",
    "df_pa_crash = df_pa_crash[df_pa_crash['POPULATION'] != 0]\n",
    "\n",
    "# Reset index\n",
    "df_pa_crash.reset_index(inplace = True, drop = True)"
   ]
  },
  {
   "cell_type": "code",
   "execution_count": 147,
   "id": "131e2bfd",
   "metadata": {},
   "outputs": [],
   "source": [
    "# Define the columns for which you want to calculate per capita values\n",
    "columns_to_convert = [\n",
    "    'BIKE_TO_WORK_EST', 'BIKE_TO_WORK_MARG',\n",
    "    'WALK_TO_WORK_EST', 'WALK_TO_WORK_MARG', 'DRIVE_SOLO_TO_WORK_EST',\n",
    "    'DRIVE_SOLO_TO_WORK_MARG', 'CARPOOL_TO_WORK_EST',\n",
    "    'CARPOOL_TO_WORK_MARG', 'PUBTRANS_TO_WORK_EST',\n",
    "    'PUBTRANS_TO_WORK_MARG', 'EMPLOYEES_FULL_TIME',\n",
    "    'EMPLOYEES_PART_TIME', 'AUTOMOBILE_COUNT',\n",
    "    'BICYCLE_BY_AUTO_COUNT', 'BICYCLE_DEATH_BY_AUTO_COUNT',\n",
    "    'BICYCLE_SUSP_SERIOUS_INJ_BY_AUTO_COUNT', 'PED_BY_AUTO_COUNT',\n",
    "    'PED_DEATH_BY_AUTO_COUNT', 'PED_SUSP_SERIOUS_INJ_BY_AUTO_COUNT',\n",
    "    'BICYCLE_SOLO_COUNT', 'BICYCLE_DEATH_SOLO_COUNT',\n",
    "    'BICYCLE_SUSP_SERIOUS_INJ_SOLO_COUNT', 'PED_SOLO_COUNT',\n",
    "    'PED_DEATH_SOLO_COUNT', 'PED_SUSP_SERIOUS_INJ_SOLO_COUNT',\n",
    "]\n",
    "\n",
    "# Create new columns with \"_PER_CAPITA\" suffix by dividing each column by 'POPULATION'\n",
    "for column in columns_to_convert:\n",
    "    new_column_name = column + '_PER_CAPITA'\n",
    "    df_pa_crash[new_column_name] = df_pa_crash[column] / df_pa_crash['POPULATION']"
   ]
  },
  {
   "cell_type": "markdown",
   "id": "e8ec14e0",
   "metadata": {},
   "source": [
    "## B. Clean the Massachusett Crash Dataset"
   ]
  },
  {
   "cell_type": "code",
   "execution_count": 148,
   "id": "a88071b5",
   "metadata": {},
   "outputs": [],
   "source": [
    "# Clean datasets\n",
    "df_mass_acs.drop(columns = ['Unnamed: 0'], inplace=True)\n",
    "\n",
    "# Exclude the NaN from 'VEHC_CONFIG_CL'\n",
    "df_mass_crash = df_mass_acs[df_mass_acs['VEHC_CONFIG_CL'].notna()]\n",
    "\n",
    "# List of NOT automobiles: Snowmobile, Moped, Motorcycle, Other Light Trucks (10,000 lbs., or Less), Other e.g. Farm Equipment, Unknown.\n",
    "# Exclude the non-automobiles from 'VEHC_CONFIG_CL' columns\n",
    "list_non_automobiles = ['V1:(Unknown vehicle configuration)', 'V1:(Other e.g. farm equipment)', 'V1:(Unknown vehicle configuration) / V2:(Unknown vehicle configuration)']\n",
    "df_mass_crash= df_mass_crash[~df_mass_crash['VEHC_CONFIG_CL'].isin(list_non_automobiles)]"
   ]
  },
  {
   "cell_type": "code",
   "execution_count": 149,
   "id": "4c7055f2",
   "metadata": {},
   "outputs": [],
   "source": [
    "# Fatal - injuries that resulted in death \n",
    "# Incapacitating - serious injuries require immediate medical attention\n",
    "\n",
    "## BICYCLE_DEATH_BY_AUTO_COUNT\n",
    "# Filter the DataFrame for cyclist fatalities\n",
    "cyclist_fatalities = df_mass_crash[(df_mass_crash['INJY_STAT_DESCR'] == 'Fatal injury (K)') & (df_mass_crash['NON_MTRST_TYPE_CL'] == 'Cyclist')]\n",
    "\n",
    "# Group the filtered DataFrame by 'CITY_TOWN_NAME' and calculate the count for each city\n",
    "bicycle_death_counts = cyclist_fatalities.groupby('CITY_TOWN_NAME').size().reset_index(name='BICYCLE_DEATH_BY_AUTO_COUNT')\n",
    "\n",
    "# Merge the bicycle_death_counts DataFrame into df_mass_crash on 'CITY_TOWN_NAME'\n",
    "df_mass_crash = df_mass_crash.merge(bicycle_death_counts, on='CITY_TOWN_NAME', how='left')\n",
    "\n",
    "## BICYCLE_SUSP_SERIOUS_INJ_BY_AUTO_COUNT\n",
    "cyclist_incapacitating = df_mass_crash[(df_mass_crash['INJY_STAT_DESCR'] == 'Non-fatal injury - Incapacitating') & (df_mass_crash['NON_MTRST_TYPE_CL'] == 'Cyclist')]\n",
    "bicycle_sus_serious_inj_counts = cyclist_incapacitating.groupby('CITY_TOWN_NAME').size().reset_index(name='BICYCLE_SUSP_SERIOUS_INJ_BY_AUTO_COUNT')\n",
    "\n",
    "# Merge the bicycle_sus_serious_inj_counts DataFrame into df_mass_crash on 'CITY_TOWN_NAME'\n",
    "df_mass_crash = df_mass_crash.merge(bicycle_sus_serious_inj_counts, on='CITY_TOWN_NAME', how='left')\n",
    "\n",
    "# Replace NaN values with 0 in the specified columns\n",
    "df_mass_crash['BICYCLE_DEATH_BY_AUTO_COUNT'].fillna(0, inplace=True)\n",
    "df_mass_crash['BICYCLE_SUSP_SERIOUS_INJ_BY_AUTO_COUNT'].fillna(0, inplace=True)\n",
    "\n",
    "## BICYCLE_BY_AUTO_COUNT\n",
    "df_mass_crash['BICYCLE_BY_AUTO_COUNT'] = df_mass_crash['BICYCLE_DEATH_BY_AUTO_COUNT'] + df_mass_crash['BICYCLE_SUSP_SERIOUS_INJ_BY_AUTO_COUNT']\n",
    "\n",
    "## AUTOMOBILE_COUNT\n",
    "auto_count = df_mass_crash.groupby('CITY_TOWN_NAME')['NUMB_VEHC'].sum().reset_index()\n",
    "auto_count.rename(columns={'NUMB_VEHC': 'AUTOMOBILE_COUNT'}, inplace=True)\n",
    "# Merge the auto_count into df_mass_crash on 'CITY_TOWN_NAME'\n",
    "df_mass_crash = df_mass_crash.merge(auto_count, on='CITY_TOWN_NAME', how='left')\n",
    "\n",
    "## PED_DEATH_BY_AUTO_COUNT\n",
    "# Filter the DataFrame for pedestrian fatalities\n",
    "ped_fatalities = df_mass_crash[(df_mass_crash['INJY_STAT_DESCR'] == 'Fatal injury (K)') & (df_mass_crash['NON_MTRST_TYPE_CL'] == 'Pedestrian')]\n",
    "\n",
    "# Group the filtered DataFrame by 'CITY_TOWN_NAME' and calculate the count for each city\n",
    "ped_death_counts = cyclist_fatalities.groupby('CITY_TOWN_NAME').size().reset_index(name='PED_DEATH_BY_AUTO_COUNT')\n",
    "\n",
    "# Merge the ped_death_counts DataFrame into df_mass_crash on 'CITY_TOWN_NAME'\n",
    "df_mass_crash = df_mass_crash.merge(ped_death_counts, on='CITY_TOWN_NAME', how='left')\n",
    "\n",
    "## PED_SUSP_SERIOUS_INJ_BY_AUTO_COUNT\n",
    "ped_incapacitating = df_mass_crash[(df_mass_crash['INJY_STAT_DESCR'] == 'Non-fatal injury - Incapacitating') & (df_mass_crash['NON_MTRST_TYPE_CL'] == 'Pedestrian')]\n",
    "ped_sus_serious_inj_counts = ped_incapacitating.groupby('CITY_TOWN_NAME').size().reset_index(name='PED_SUSP_SERIOUS_INJ_BY_AUTO_COUNT')\n",
    "\n",
    "# Merge the ped_sus_serious_inj_counts DataFrame into df_mass_crash on 'CITY_TOWN_NAME'\n",
    "df_mass_crash = df_mass_crash.merge(ped_sus_serious_inj_counts, on='CITY_TOWN_NAME', how='left')\n",
    "\n",
    "# Replace NaN values with 0 in the specified columns\n",
    "df_mass_crash['PED_DEATH_BY_AUTO_COUNT'].fillna(0, inplace=True)\n",
    "df_mass_crash['PED_SUSP_SERIOUS_INJ_BY_AUTO_COUNT'].fillna(0, inplace=True)\n",
    "\n",
    "##PED_BY_AUTO_COUNT\n",
    "df_mass_crash['PED_BY_AUTO_COUNT'] = df_mass_crash['PED_DEATH_BY_AUTO_COUNT'] + df_mass_crash['PED_SUSP_SERIOUS_INJ_BY_AUTO_COUNT']\n",
    "\n",
    "# Drop the duplicated rows\n",
    "df_mass_crash = df_mass_crash.drop_duplicates(subset=['CITY_TOWN_NAME', 'POPULATION', \n",
    "                                                      'BIKE_TO_WORK_EST', 'BICYCLE_BY_AUTO_COUNT', \n",
    "                                                      'BICYCLE_DEATH_BY_AUTO_COUNT', \n",
    "                                                      'BICYCLE_SUSP_SERIOUS_INJ_BY_AUTO_COUNT', \n",
    "                                                      'AUTOMOBILE_COUNT', 'PED_BY_AUTO_COUNT', \n",
    "                                                      'PED_DEATH_BY_AUTO_COUNT', 'PED_SUSP_SERIOUS_INJ_BY_AUTO_COUNT'])"
   ]
  },
  {
   "cell_type": "code",
   "execution_count": 150,
   "id": "70db9a48",
   "metadata": {},
   "outputs": [],
   "source": [
    "# Select columns with numeric data types (int or float) using select_dtypes\n",
    "numeric_columns = df_mass_crash.select_dtypes(include=['number'])\n",
    "\n",
    "# Create a new DataFrame with only the numeric columns\n",
    "df_mass_crash = df_mass_crash[numeric_columns.columns]\n",
    "\n",
    "# Reset index\n",
    "df_mass_crash.reset_index(drop = True, inplace = True)"
   ]
  },
  {
   "cell_type": "code",
   "execution_count": 151,
   "id": "33ea8b6e",
   "metadata": {},
   "outputs": [],
   "source": [
    "# Define the columns for which you want to calculate per capita values\n",
    "columns_to_convert = [\n",
    "    'BIKE_TO_WORK_EST', 'BIKE_TO_WORK_MARG',\n",
    "    'WALK_TO_WORK_EST', 'WALK_TO_WORK_MARG', 'DRIVE_SOLO_TO_WORK_EST',\n",
    "    'DRIVE_SOLO_TO_WORK_MARG', 'CARPOOL_TO_WORK_EST',\n",
    "    'CARPOOL_TO_WORK_MARG', 'PUBTRANS_TO_WORK_EST',\n",
    "    'PUBTRANS_TO_WORK_MARG', 'AUTOMOBILE_COUNT',\n",
    "    'BICYCLE_BY_AUTO_COUNT', 'BICYCLE_DEATH_BY_AUTO_COUNT',\n",
    "    'BICYCLE_SUSP_SERIOUS_INJ_BY_AUTO_COUNT', 'PED_BY_AUTO_COUNT',\n",
    "    'PED_DEATH_BY_AUTO_COUNT', 'PED_SUSP_SERIOUS_INJ_BY_AUTO_COUNT']\n",
    "\n",
    "# Create new columns with \"_PER_CAPITA\" suffix by dividing each column by 'POPULATION'\n",
    "for column in columns_to_convert:\n",
    "    new_column_name = column + '_PER_CAPITA'\n",
    "    df_mass_crash[new_column_name] = df_mass_crash[column] / df_mass_crash['POPULATION']"
   ]
  },
  {
   "cell_type": "markdown",
   "id": "3d0d8607",
   "metadata": {},
   "source": [
    "## C. Clean the Colorado Crash Dataset"
   ]
  },
  {
   "cell_type": "code",
   "execution_count": 152,
   "id": "8c417a03",
   "metadata": {},
   "outputs": [],
   "source": [
    "# Clean datasets\n",
    "df_col_acs.drop(columns = ['Unnamed: 0'], inplace=True)"
   ]
  },
  {
   "cell_type": "code",
   "execution_count": 153,
   "id": "f361e37b",
   "metadata": {},
   "outputs": [],
   "source": [
    "# Nake a copy of df_col_acs\n",
    "df_col_crash = df_col_acs.copy()"
   ]
  },
  {
   "cell_type": "code",
   "execution_count": 154,
   "id": "c90759d1",
   "metadata": {},
   "outputs": [],
   "source": [
    "# Define the columns for which you want to calculate per capita values\n",
    "columns_to_convert = [\n",
    "    'BIKE_TO_WORK_EST', 'BIKE_TO_WORK_MARG',\n",
    "    'WALK_TO_WORK_EST', 'WALK_TO_WORK_MARG', 'DRIVE_SOLO_TO_WORK_EST',\n",
    "    'DRIVE_SOLO_TO_WORK_MARG', 'CARPOOL_TO_WORK_EST',\n",
    "    'CARPOOL_TO_WORK_MARG', 'PUBTRANS_TO_WORK_EST',\n",
    "    'PUBTRANS_TO_WORK_MARG', \n",
    "    'BICYCLE_BY_AUTO_COUNT', 'BICYCLE_DEATH_BY_AUTO_COUNT',\n",
    "    'BICYCLE_SUSP_SERIOUS_INJ_BY_AUTO_COUNT', 'PED_BY_AUTO_COUNT',\n",
    "    'PED_DEATH_BY_AUTO_COUNT', 'PED_SUSP_SERIOUS_INJ_BY_AUTO_COUNT']\n",
    "\n",
    "# Create new columns with \"_PER_CAPITA\" suffix by dividing each column by 'POPULATION'\n",
    "for column in columns_to_convert:\n",
    "    new_column_name = column + '_PER_CAPITA'\n",
    "    df_col_crash[new_column_name] = df_col_crash[column] / df_col_crash['POPULATION']"
   ]
  },
  {
   "cell_type": "code",
   "execution_count": 155,
   "id": "c47ea2be",
   "metadata": {},
   "outputs": [],
   "source": [
    "# Set the STATE coloumn\n",
    "df_pa_crash['STATE'] = 'PA'\n",
    "df_mass_crash['STATE'] = 'MA'\n",
    "df_col_crash['STATE'] = 'CO'"
   ]
  },
  {
   "cell_type": "code",
   "execution_count": 156,
   "id": "0b058e46",
   "metadata": {},
   "outputs": [],
   "source": [
    "# Find the common columns\n",
    "common_columns = list(set(df_pa_crash.columns) & set(df_col_crash.columns) & set(df_mass_crash.columns))\n",
    "\n",
    "# Keep to have the same columns\n",
    "df_mass_crash = df_mass_crash[common_columns]\n",
    "df_pa_crash = df_pa_crash[common_columns]\n",
    "df_col_crash = df_col_crash[common_columns]\n",
    "\n",
    "# Reorder the columns of the df_mass_crash and df_col_crash to match df_pa_crash\n",
    "df_mass_crash = df_mass_crash[df_pa_crash.columns]\n",
    "df_col_crash = df_col_crash[df_pa_crash.columns]"
   ]
  },
  {
   "cell_type": "code",
   "execution_count": 157,
   "id": "006aab41",
   "metadata": {},
   "outputs": [
    {
     "data": {
      "text/plain": [
       "((293, 34), (2565, 34), (127, 34))"
      ]
     },
     "execution_count": 157,
     "metadata": {},
     "output_type": "execute_result"
    }
   ],
   "source": [
    "# Print the shape of each datadrame\n",
    "df_mass_crash.shape, df_pa_crash.shape, df_col_crash.shape"
   ]
  },
  {
   "cell_type": "markdown",
   "id": "72d2f721",
   "metadata": {},
   "source": [
    "## C. Merge df_pa_crash and df_mass_crash Dataframes"
   ]
  },
  {
   "cell_type": "code",
   "execution_count": 158,
   "id": "9ef18be7",
   "metadata": {},
   "outputs": [
    {
     "name": "stdout",
     "output_type": "stream",
     "text": [
      "(2985, 34)\n"
     ]
    },
    {
     "data": {
      "text/html": [
       "<div>\n",
       "<style scoped>\n",
       "    .dataframe tbody tr th:only-of-type {\n",
       "        vertical-align: middle;\n",
       "    }\n",
       "\n",
       "    .dataframe tbody tr th {\n",
       "        vertical-align: top;\n",
       "    }\n",
       "\n",
       "    .dataframe thead th {\n",
       "        text-align: right;\n",
       "    }\n",
       "</style>\n",
       "<table border=\"1\" class=\"dataframe\">\n",
       "  <thead>\n",
       "    <tr style=\"text-align: right;\">\n",
       "      <th></th>\n",
       "      <th>PED_SUSP_SERIOUS_INJ_BY_AUTO_COUNT</th>\n",
       "      <th>CARPOOL_TO_WORK_MARG_PER_CAPITA</th>\n",
       "      <th>PUBTRANS_TO_WORK_MARG</th>\n",
       "      <th>BICYCLE_DEATH_BY_AUTO_COUNT</th>\n",
       "      <th>PED_DEATH_BY_AUTO_COUNT</th>\n",
       "      <th>BICYCLE_SUSP_SERIOUS_INJ_BY_AUTO_COUNT</th>\n",
       "      <th>PED_BY_AUTO_COUNT_PER_CAPITA</th>\n",
       "      <th>BIKE_TO_WORK_EST</th>\n",
       "      <th>PED_DEATH_BY_AUTO_COUNT_PER_CAPITA</th>\n",
       "      <th>BIKE_TO_WORK_MARG</th>\n",
       "      <th>...</th>\n",
       "      <th>BICYCLE_BY_AUTO_COUNT_PER_CAPITA</th>\n",
       "      <th>PUBTRANS_TO_WORK_EST_PER_CAPITA</th>\n",
       "      <th>PUBTRANS_TO_WORK_EST</th>\n",
       "      <th>BICYCLE_SUSP_SERIOUS_INJ_BY_AUTO_COUNT_PER_CAPITA</th>\n",
       "      <th>BIKE_TO_WORK_EST_PER_CAPITA</th>\n",
       "      <th>STATE</th>\n",
       "      <th>PUBTRANS_TO_WORK_MARG_PER_CAPITA</th>\n",
       "      <th>POPULATION</th>\n",
       "      <th>BIKE_TO_WORK_MARG_PER_CAPITA</th>\n",
       "      <th>PED_SUSP_SERIOUS_INJ_BY_AUTO_COUNT_PER_CAPITA</th>\n",
       "    </tr>\n",
       "  </thead>\n",
       "  <tbody>\n",
       "    <tr>\n",
       "      <th>0</th>\n",
       "      <td>214.0</td>\n",
       "      <td>0.001954</td>\n",
       "      <td>4179</td>\n",
       "      <td>8.0</td>\n",
       "      <td>82.0</td>\n",
       "      <td>31.0</td>\n",
       "      <td>0.001633</td>\n",
       "      <td>14172</td>\n",
       "      <td>0.000051</td>\n",
       "      <td>940</td>\n",
       "      <td>...</td>\n",
       "      <td>0.000364</td>\n",
       "      <td>0.095223</td>\n",
       "      <td>152058</td>\n",
       "      <td>0.000019</td>\n",
       "      <td>0.008875</td>\n",
       "      <td>PA</td>\n",
       "      <td>0.002617</td>\n",
       "      <td>1596865</td>\n",
       "      <td>0.000589</td>\n",
       "      <td>0.000134</td>\n",
       "    </tr>\n",
       "    <tr>\n",
       "      <th>1</th>\n",
       "      <td>75.0</td>\n",
       "      <td>0.002685</td>\n",
       "      <td>1252</td>\n",
       "      <td>1.0</td>\n",
       "      <td>6.0</td>\n",
       "      <td>4.0</td>\n",
       "      <td>0.001778</td>\n",
       "      <td>1920</td>\n",
       "      <td>0.000020</td>\n",
       "      <td>290</td>\n",
       "      <td>...</td>\n",
       "      <td>0.000274</td>\n",
       "      <td>0.077033</td>\n",
       "      <td>23357</td>\n",
       "      <td>0.000013</td>\n",
       "      <td>0.006332</td>\n",
       "      <td>PA</td>\n",
       "      <td>0.004129</td>\n",
       "      <td>303207</td>\n",
       "      <td>0.000956</td>\n",
       "      <td>0.000247</td>\n",
       "    </tr>\n",
       "    <tr>\n",
       "      <th>2</th>\n",
       "      <td>3.0</td>\n",
       "      <td>0.004114</td>\n",
       "      <td>392</td>\n",
       "      <td>0.0</td>\n",
       "      <td>0.0</td>\n",
       "      <td>2.0</td>\n",
       "      <td>0.001165</td>\n",
       "      <td>729</td>\n",
       "      <td>0.000000</td>\n",
       "      <td>297</td>\n",
       "      <td>...</td>\n",
       "      <td>0.000347</td>\n",
       "      <td>0.044930</td>\n",
       "      <td>1813</td>\n",
       "      <td>0.000050</td>\n",
       "      <td>0.018066</td>\n",
       "      <td>PA</td>\n",
       "      <td>0.009715</td>\n",
       "      <td>40352</td>\n",
       "      <td>0.007360</td>\n",
       "      <td>0.000074</td>\n",
       "    </tr>\n",
       "    <tr>\n",
       "      <th>3</th>\n",
       "      <td>10.0</td>\n",
       "      <td>0.006992</td>\n",
       "      <td>312</td>\n",
       "      <td>1.0</td>\n",
       "      <td>3.0</td>\n",
       "      <td>5.0</td>\n",
       "      <td>0.001047</td>\n",
       "      <td>329</td>\n",
       "      <td>0.000031</td>\n",
       "      <td>191</td>\n",
       "      <td>...</td>\n",
       "      <td>0.000481</td>\n",
       "      <td>0.015512</td>\n",
       "      <td>1482</td>\n",
       "      <td>0.000052</td>\n",
       "      <td>0.003444</td>\n",
       "      <td>PA</td>\n",
       "      <td>0.003266</td>\n",
       "      <td>95536</td>\n",
       "      <td>0.001999</td>\n",
       "      <td>0.000105</td>\n",
       "    </tr>\n",
       "    <tr>\n",
       "      <th>4</th>\n",
       "      <td>0.0</td>\n",
       "      <td>0.017467</td>\n",
       "      <td>211</td>\n",
       "      <td>0.0</td>\n",
       "      <td>0.0</td>\n",
       "      <td>2.0</td>\n",
       "      <td>0.000208</td>\n",
       "      <td>259</td>\n",
       "      <td>0.000000</td>\n",
       "      <td>116</td>\n",
       "      <td>...</td>\n",
       "      <td>0.000260</td>\n",
       "      <td>0.030724</td>\n",
       "      <td>591</td>\n",
       "      <td>0.000104</td>\n",
       "      <td>0.013464</td>\n",
       "      <td>PA</td>\n",
       "      <td>0.010969</td>\n",
       "      <td>19236</td>\n",
       "      <td>0.006030</td>\n",
       "      <td>0.000000</td>\n",
       "    </tr>\n",
       "  </tbody>\n",
       "</table>\n",
       "<p>5 rows × 34 columns</p>\n",
       "</div>"
      ],
      "text/plain": [
       "   PED_SUSP_SERIOUS_INJ_BY_AUTO_COUNT  CARPOOL_TO_WORK_MARG_PER_CAPITA  \\\n",
       "0                               214.0                         0.001954   \n",
       "1                                75.0                         0.002685   \n",
       "2                                 3.0                         0.004114   \n",
       "3                                10.0                         0.006992   \n",
       "4                                 0.0                         0.017467   \n",
       "\n",
       "   PUBTRANS_TO_WORK_MARG  BICYCLE_DEATH_BY_AUTO_COUNT  \\\n",
       "0                   4179                          8.0   \n",
       "1                   1252                          1.0   \n",
       "2                    392                          0.0   \n",
       "3                    312                          1.0   \n",
       "4                    211                          0.0   \n",
       "\n",
       "   PED_DEATH_BY_AUTO_COUNT  BICYCLE_SUSP_SERIOUS_INJ_BY_AUTO_COUNT  \\\n",
       "0                     82.0                                    31.0   \n",
       "1                      6.0                                     4.0   \n",
       "2                      0.0                                     2.0   \n",
       "3                      3.0                                     5.0   \n",
       "4                      0.0                                     2.0   \n",
       "\n",
       "   PED_BY_AUTO_COUNT_PER_CAPITA  BIKE_TO_WORK_EST  \\\n",
       "0                      0.001633             14172   \n",
       "1                      0.001778              1920   \n",
       "2                      0.001165               729   \n",
       "3                      0.001047               329   \n",
       "4                      0.000208               259   \n",
       "\n",
       "   PED_DEATH_BY_AUTO_COUNT_PER_CAPITA  BIKE_TO_WORK_MARG  ...  \\\n",
       "0                            0.000051                940  ...   \n",
       "1                            0.000020                290  ...   \n",
       "2                            0.000000                297  ...   \n",
       "3                            0.000031                191  ...   \n",
       "4                            0.000000                116  ...   \n",
       "\n",
       "   BICYCLE_BY_AUTO_COUNT_PER_CAPITA  PUBTRANS_TO_WORK_EST_PER_CAPITA  \\\n",
       "0                          0.000364                         0.095223   \n",
       "1                          0.000274                         0.077033   \n",
       "2                          0.000347                         0.044930   \n",
       "3                          0.000481                         0.015512   \n",
       "4                          0.000260                         0.030724   \n",
       "\n",
       "   PUBTRANS_TO_WORK_EST  BICYCLE_SUSP_SERIOUS_INJ_BY_AUTO_COUNT_PER_CAPITA  \\\n",
       "0                152058                                           0.000019   \n",
       "1                 23357                                           0.000013   \n",
       "2                  1813                                           0.000050   \n",
       "3                  1482                                           0.000052   \n",
       "4                   591                                           0.000104   \n",
       "\n",
       "   BIKE_TO_WORK_EST_PER_CAPITA  STATE  PUBTRANS_TO_WORK_MARG_PER_CAPITA  \\\n",
       "0                     0.008875     PA                          0.002617   \n",
       "1                     0.006332     PA                          0.004129   \n",
       "2                     0.018066     PA                          0.009715   \n",
       "3                     0.003444     PA                          0.003266   \n",
       "4                     0.013464     PA                          0.010969   \n",
       "\n",
       "   POPULATION  BIKE_TO_WORK_MARG_PER_CAPITA  \\\n",
       "0     1596865                      0.000589   \n",
       "1      303207                      0.000956   \n",
       "2       40352                      0.007360   \n",
       "3       95536                      0.001999   \n",
       "4       19236                      0.006030   \n",
       "\n",
       "   PED_SUSP_SERIOUS_INJ_BY_AUTO_COUNT_PER_CAPITA  \n",
       "0                                       0.000134  \n",
       "1                                       0.000247  \n",
       "2                                       0.000074  \n",
       "3                                       0.000105  \n",
       "4                                       0.000000  \n",
       "\n",
       "[5 rows x 34 columns]"
      ]
     },
     "execution_count": 158,
     "metadata": {},
     "output_type": "execute_result"
    }
   ],
   "source": [
    "# Merge dataframes\n",
    "crash_acs = pd.concat([df_pa_crash, df_mass_crash], axis=0)\n",
    "df_crash_acs = pd.concat([crash_acs, df_col_crash], axis=0)\n",
    "\n",
    "# Reset index\n",
    "df_crash_acs.reset_index(drop = True, inplace = True)\n",
    "\n",
    "# Check for the shape of the datafrane\n",
    "print(df_crash_acs.shape)\n",
    "\n",
    "# Show merge dataframe\n",
    "df_crash_acs.head()"
   ]
  },
  {
   "cell_type": "markdown",
   "id": "e8b21ccf",
   "metadata": {},
   "source": [
    "**Create dumnmy variable for each dataframe**"
   ]
  },
  {
   "cell_type": "code",
   "execution_count": 159,
   "id": "6271bbc9",
   "metadata": {},
   "outputs": [],
   "source": [
    "df_crash_acs = pd.get_dummies(df_crash_acs, columns=['STATE'])"
   ]
  },
  {
   "cell_type": "code",
   "execution_count": 160,
   "id": "c04315a5",
   "metadata": {},
   "outputs": [
    {
     "data": {
      "text/plain": [
       "PED_SUSP_SERIOUS_INJ_BY_AUTO_COUNT                   0\n",
       "CARPOOL_TO_WORK_MARG_PER_CAPITA                      0\n",
       "PUBTRANS_TO_WORK_MARG                                0\n",
       "BICYCLE_DEATH_BY_AUTO_COUNT                          0\n",
       "PED_DEATH_BY_AUTO_COUNT                              0\n",
       "BICYCLE_SUSP_SERIOUS_INJ_BY_AUTO_COUNT               0\n",
       "PED_BY_AUTO_COUNT_PER_CAPITA                         0\n",
       "BIKE_TO_WORK_EST                                     0\n",
       "PED_DEATH_BY_AUTO_COUNT_PER_CAPITA                   0\n",
       "BIKE_TO_WORK_MARG                                    0\n",
       "DRIVE_SOLO_TO_WORK_EST                               0\n",
       "DRIVE_SOLO_TO_WORK_MARG_PER_CAPITA                   0\n",
       "PED_BY_AUTO_COUNT                                    0\n",
       "WALK_TO_WORK_EST                                     0\n",
       "BICYCLE_DEATH_BY_AUTO_COUNT_PER_CAPITA               0\n",
       "DRIVE_SOLO_TO_WORK_MARG                              0\n",
       "WALK_TO_WORK_MARG                                    0\n",
       "BICYCLE_BY_AUTO_COUNT                                0\n",
       "WALK_TO_WORK_MARG_PER_CAPITA                         0\n",
       "WALK_TO_WORK_EST_PER_CAPITA                          0\n",
       "CARPOOL_TO_WORK_EST_PER_CAPITA                       0\n",
       "CARPOOL_TO_WORK_MARG                                 0\n",
       "CARPOOL_TO_WORK_EST                                  0\n",
       "DRIVE_SOLO_TO_WORK_EST_PER_CAPITA                    0\n",
       "BICYCLE_BY_AUTO_COUNT_PER_CAPITA                     0\n",
       "PUBTRANS_TO_WORK_EST_PER_CAPITA                      0\n",
       "PUBTRANS_TO_WORK_EST                                 0\n",
       "BICYCLE_SUSP_SERIOUS_INJ_BY_AUTO_COUNT_PER_CAPITA    0\n",
       "BIKE_TO_WORK_EST_PER_CAPITA                          0\n",
       "PUBTRANS_TO_WORK_MARG_PER_CAPITA                     0\n",
       "POPULATION                                           0\n",
       "BIKE_TO_WORK_MARG_PER_CAPITA                         0\n",
       "PED_SUSP_SERIOUS_INJ_BY_AUTO_COUNT_PER_CAPITA        0\n",
       "STATE_CO                                             0\n",
       "STATE_MA                                             0\n",
       "STATE_PA                                             0\n",
       "dtype: int64"
      ]
     },
     "execution_count": 160,
     "metadata": {},
     "output_type": "execute_result"
    }
   ],
   "source": [
    "# Check for NaN missing values\n",
    "df_crash_acs.isna().sum()"
   ]
  },
  {
   "cell_type": "markdown",
   "id": "4e9783fb",
   "metadata": {},
   "source": [
    "**Use Pandas Profiling**"
   ]
  },
  {
   "cell_type": "code",
   "execution_count": 161,
   "id": "f7601c72",
   "metadata": {},
   "outputs": [],
   "source": [
    "#pp.ProfileReport(df_crash_acs)"
   ]
  },
  {
   "cell_type": "code",
   "execution_count": 162,
   "id": "7915b63d",
   "metadata": {},
   "outputs": [],
   "source": [
    "# Assuming df_crash_acs is your DataFrame\n",
    "selected_columns = [\n",
    "    'CARPOOL_TO_WORK_MARG_PER_CAPITA', \n",
    "    'PED_BY_AUTO_COUNT_PER_CAPITA', \n",
    "    'PED_DEATH_BY_AUTO_COUNT_PER_CAPITA', \n",
    "    'DRIVE_SOLO_TO_WORK_MARG_PER_CAPITA', \n",
    "    'BICYCLE_DEATH_BY_AUTO_COUNT_PER_CAPITA', \n",
    "    'WALK_TO_WORK_MARG_PER_CAPITA', \n",
    "    'WALK_TO_WORK_EST_PER_CAPITA', \n",
    "    'CARPOOL_TO_WORK_EST_PER_CAPITA', \n",
    "    'DRIVE_SOLO_TO_WORK_EST_PER_CAPITA', \n",
    "    'BICYCLE_BY_AUTO_COUNT_PER_CAPITA', \n",
    "    'PUBTRANS_TO_WORK_EST_PER_CAPITA', \n",
    "    'BICYCLE_SUSP_SERIOUS_INJ_BY_AUTO_COUNT_PER_CAPITA', \n",
    "    'BIKE_TO_WORK_EST_PER_CAPITA', \n",
    "    'PUBTRANS_TO_WORK_MARG_PER_CAPITA', \n",
    "    'BIKE_TO_WORK_MARG_PER_CAPITA', \n",
    "    'PED_SUSP_SERIOUS_INJ_BY_AUTO_COUNT_PER_CAPITA', \n",
    "    'STATE_CO', \n",
    "    'STATE_MA',\n",
    "    'STATE_PA'\n",
    "]\n",
    "\n",
    "# Select the specified columns from the DataFrame\n",
    "df_crash_acs = df_crash_acs[selected_columns]"
   ]
  },
  {
   "cell_type": "markdown",
   "id": "563466f4",
   "metadata": {},
   "source": [
    "# II. Stepwise Regression"
   ]
  },
  {
   "cell_type": "markdown",
   "id": "f3b91f83",
   "metadata": {},
   "source": [
    "## A. Separate Dataset in Y (independent) and X (dependent) Variables"
   ]
  },
  {
   "cell_type": "code",
   "execution_count": 163,
   "id": "64709a25",
   "metadata": {},
   "outputs": [],
   "source": [
    "y = df_crash_acs[\"BICYCLE_BY_AUTO_COUNT_PER_CAPITA\"] # Y = df_crash.BICYCLE_BY_AUTO_COUNT_PER_CAPITA\n",
    "X = df_crash_acs.drop(columns=\"BICYCLE_BY_AUTO_COUNT_PER_CAPITA\")"
   ]
  },
  {
   "cell_type": "code",
   "execution_count": 164,
   "id": "553674cb",
   "metadata": {},
   "outputs": [],
   "source": [
    "y2 = df_crash_acs[\"PED_BY_AUTO_COUNT_PER_CAPITA\"] # Y = df_crash.PED_BY_AUTO_COUNT_PER_CAPITA\n",
    "X2 = df_crash_acs.drop(columns=\"PED_BY_AUTO_COUNT_PER_CAPITA\")"
   ]
  },
  {
   "cell_type": "markdown",
   "id": "9ce05ba4",
   "metadata": {},
   "source": [
    "## B. Use the train_test_split Function to Split Data into Training (80%) and Testing Set (20%)"
   ]
  },
  {
   "cell_type": "code",
   "execution_count": 165,
   "id": "ecacf086",
   "metadata": {},
   "outputs": [],
   "source": [
    "X_train, X_test, y_train, y_test = train_test_split(X, y, test_size=0.2, random_state=5)"
   ]
  },
  {
   "cell_type": "code",
   "execution_count": 166,
   "id": "07cc4ae0",
   "metadata": {},
   "outputs": [],
   "source": [
    "X_train2, X_test2, y_train2, y_test2 = train_test_split(X2, y2, test_size=0.2, random_state=5)"
   ]
  },
  {
   "cell_type": "markdown",
   "id": "443547e2",
   "metadata": {},
   "source": [
    "## C. Fit, Run or Estimate the Regression Model\n",
    "\n",
    "### 1. BICYCLE_BY_AUTO_COUNT_PER_CAPITA as the Dependent Variable"
   ]
  },
  {
   "cell_type": "code",
   "execution_count": 167,
   "id": "36de7b03",
   "metadata": {},
   "outputs": [
    {
     "name": "stdout",
     "output_type": "stream",
     "text": [
      "Selected Features: ['PED_BY_AUTO_COUNT_PER_CAPITA', 'PED_DEATH_BY_AUTO_COUNT_PER_CAPITA', 'BICYCLE_DEATH_BY_AUTO_COUNT_PER_CAPITA', 'WALK_TO_WORK_EST_PER_CAPITA', 'CARPOOL_TO_WORK_EST_PER_CAPITA', 'DRIVE_SOLO_TO_WORK_EST_PER_CAPITA', 'PUBTRANS_TO_WORK_EST_PER_CAPITA', 'BICYCLE_SUSP_SERIOUS_INJ_BY_AUTO_COUNT_PER_CAPITA', 'BIKE_TO_WORK_EST_PER_CAPITA', 'PED_SUSP_SERIOUS_INJ_BY_AUTO_COUNT_PER_CAPITA', 'STATE_PA']\n"
     ]
    }
   ],
   "source": [
    "# Create a linear regression model\n",
    "OLS = LinearRegression()\n",
    "\n",
    "# Forward feature selection using SequentialFeatureSelector\n",
    "sfs = SequentialFeatureSelector(OLS, k_features=\"best\", forward=True, scoring='neg_mean_squared_error', cv=10)\n",
    "sfs.fit(X_train, y_train)\n",
    "\n",
    "# Selected features\n",
    "selected_features = list(X_train.columns[list(sfs.k_feature_idx_)])\n",
    "print(\"Selected Features:\", selected_features)"
   ]
  },
  {
   "cell_type": "code",
   "execution_count": 168,
   "id": "b0e01b1e",
   "metadata": {},
   "outputs": [
    {
     "name": "stdout",
     "output_type": "stream",
     "text": [
      "                                   OLS Regression Results                                   \n",
      "============================================================================================\n",
      "Dep. Variable:     BICYCLE_BY_AUTO_COUNT_PER_CAPITA   R-squared:                       0.282\n",
      "Model:                                          OLS   Adj. R-squared:                  0.279\n",
      "Method:                               Least Squares   F-statistic:                     84.79\n",
      "Date:                              Wed, 29 Nov 2023   Prob (F-statistic):          6.31e-162\n",
      "Time:                                      14:07:33   Log-Likelihood:                 17604.\n",
      "No. Observations:                              2388   AIC:                        -3.518e+04\n",
      "Df Residuals:                                  2376   BIC:                        -3.512e+04\n",
      "Df Model:                                        11                                         \n",
      "Covariance Type:                          nonrobust                                         \n",
      "=====================================================================================================================\n",
      "                                                        coef    std err          t      P>|t|      [0.025      0.975]\n",
      "---------------------------------------------------------------------------------------------------------------------\n",
      "const                                             -4.746e-05    2.2e-05     -2.157      0.031   -9.06e-05   -4.31e-06\n",
      "PED_BY_AUTO_COUNT_PER_CAPITA                          0.0581      0.009      6.223      0.000       0.040       0.076\n",
      "PED_DEATH_BY_AUTO_COUNT_PER_CAPITA                   -0.0569      0.039     -1.476      0.140      -0.132       0.019\n",
      "BICYCLE_DEATH_BY_AUTO_COUNT_PER_CAPITA                1.0245      0.113      9.062      0.000       0.803       1.246\n",
      "WALK_TO_WORK_EST_PER_CAPITA                           0.0003      0.000      1.449      0.147   -9.76e-05       0.001\n",
      "CARPOOL_TO_WORK_EST_PER_CAPITA                       -0.0002      0.000     -1.510      0.131      -0.000    6.26e-05\n",
      "DRIVE_SOLO_TO_WORK_EST_PER_CAPITA                  9.889e-05   4.75e-05      2.084      0.037    5.84e-06       0.000\n",
      "PUBTRANS_TO_WORK_EST_PER_CAPITA                       0.0002      0.000      0.841      0.400      -0.000       0.001\n",
      "BICYCLE_SUSP_SERIOUS_INJ_BY_AUTO_COUNT_PER_CAPITA     1.2617      0.046     27.321      0.000       1.171       1.352\n",
      "BIKE_TO_WORK_EST_PER_CAPITA                           0.0021      0.001      2.518      0.012       0.000       0.004\n",
      "PED_SUSP_SERIOUS_INJ_BY_AUTO_COUNT_PER_CAPITA        -0.0595      0.023     -2.539      0.011      -0.105      -0.014\n",
      "STATE_PA                                           4.846e-05   9.74e-06      4.976      0.000    2.94e-05    6.76e-05\n",
      "==============================================================================\n",
      "Omnibus:                     3340.680   Durbin-Watson:                   2.013\n",
      "Prob(Omnibus):                  0.000   Jarque-Bera (JB):           987228.291\n",
      "Skew:                           8.011   Prob(JB):                         0.00\n",
      "Kurtosis:                     101.312   Cond. No.                     5.04e+04\n",
      "==============================================================================\n",
      "\n",
      "Notes:\n",
      "[1] Standard Errors assume that the covariance matrix of the errors is correctly specified.\n",
      "[2] The condition number is large, 5.04e+04. This might indicate that there are\n",
      "strong multicollinearity or other numerical problems.\n"
     ]
    }
   ],
   "source": [
    "# Get the selected features\n",
    "selected_features = list(X_train.columns[list(sfs.k_feature_idx_)])\n",
    "\n",
    "# Build a linear regression model using statsmodels with the selected features\n",
    "X_train_selected = X_train[selected_features]\n",
    "X_train_selected = sm.add_constant(X_train_selected)  # Add a constant for the intercept\n",
    "model = sm.OLS(y_train, X_train_selected).fit()\n",
    "\n",
    "# Display the summary of the statsmodels linear regression model\n",
    "print(model.summary())"
   ]
  },
  {
   "cell_type": "code",
   "execution_count": 169,
   "id": "d6bef7c2",
   "metadata": {},
   "outputs": [],
   "source": [
    "# Make predictions on the test data\n",
    "X_test_selected = X_test[selected_features]\n",
    "X_test_selected = sm.add_constant(X_test_selected) # Add a constant term to the test data\n",
    "y_pred = model.predict(X_test_selected)"
   ]
  },
  {
   "cell_type": "markdown",
   "id": "01fa3216",
   "metadata": {},
   "source": [
    "### 2. PED_BY_AUTO_COUNT_PER_CAPITA as the Dependent Variable"
   ]
  },
  {
   "cell_type": "code",
   "execution_count": 170,
   "id": "1668eea5",
   "metadata": {},
   "outputs": [
    {
     "name": "stdout",
     "output_type": "stream",
     "text": [
      "Selected Features: ['PED_DEATH_BY_AUTO_COUNT_PER_CAPITA', 'BICYCLE_DEATH_BY_AUTO_COUNT_PER_CAPITA', 'WALK_TO_WORK_MARG_PER_CAPITA', 'WALK_TO_WORK_EST_PER_CAPITA', 'CARPOOL_TO_WORK_EST_PER_CAPITA', 'DRIVE_SOLO_TO_WORK_EST_PER_CAPITA', 'BICYCLE_BY_AUTO_COUNT_PER_CAPITA', 'PUBTRANS_TO_WORK_EST_PER_CAPITA', 'BIKE_TO_WORK_EST_PER_CAPITA', 'PUBTRANS_TO_WORK_MARG_PER_CAPITA', 'BIKE_TO_WORK_MARG_PER_CAPITA', 'PED_SUSP_SERIOUS_INJ_BY_AUTO_COUNT_PER_CAPITA', 'STATE_CO', 'STATE_MA', 'STATE_PA']\n"
     ]
    }
   ],
   "source": [
    "# Create a linear regression model\n",
    "OLS = LinearRegression()\n",
    "\n",
    "# Forward feature selection using SequentialFeatureSelector\n",
    "sfs = SequentialFeatureSelector(OLS, k_features=\"best\", forward=True, scoring='neg_mean_squared_error', cv=10)\n",
    "sfs.fit(X_train2, y_train2)\n",
    "\n",
    "# Selected features\n",
    "selected_features2 = list(X_train2.columns[list(sfs.k_feature_idx_)])\n",
    "print(\"Selected Features:\", selected_features2)"
   ]
  },
  {
   "cell_type": "code",
   "execution_count": 171,
   "id": "8e69bd0e",
   "metadata": {},
   "outputs": [
    {
     "name": "stdout",
     "output_type": "stream",
     "text": [
      "                                 OLS Regression Results                                 \n",
      "========================================================================================\n",
      "Dep. Variable:     PED_BY_AUTO_COUNT_PER_CAPITA   R-squared:                       0.376\n",
      "Model:                                      OLS   Adj. R-squared:                  0.372\n",
      "Method:                           Least Squares   F-statistic:                     102.1\n",
      "Date:                          Wed, 29 Nov 2023   Prob (F-statistic):          1.30e-230\n",
      "Time:                                  14:07:38   Log-Likelihood:                 15757.\n",
      "No. Observations:                          2388   AIC:                        -3.148e+04\n",
      "Df Residuals:                              2373   BIC:                        -3.140e+04\n",
      "Df Model:                                    14                                         \n",
      "Covariance Type:                      nonrobust                                         \n",
      "=================================================================================================================\n",
      "                                                    coef    std err          t      P>|t|      [0.025      0.975]\n",
      "-----------------------------------------------------------------------------------------------------------------\n",
      "const                                         -6.223e-05   3.42e-05     -1.820      0.069      -0.000    4.82e-06\n",
      "PED_DEATH_BY_AUTO_COUNT_PER_CAPITA                1.1714      0.080     14.620      0.000       1.014       1.328\n",
      "BICYCLE_DEATH_BY_AUTO_COUNT_PER_CAPITA           -0.3318      0.248     -1.336      0.182      -0.819       0.155\n",
      "WALK_TO_WORK_MARG_PER_CAPITA                      0.0011      0.000      2.426      0.015       0.000       0.002\n",
      "WALK_TO_WORK_EST_PER_CAPITA                       0.0020      0.000      4.885      0.000       0.001       0.003\n",
      "CARPOOL_TO_WORK_EST_PER_CAPITA                    0.0013      0.000      4.399      0.000       0.001       0.002\n",
      "DRIVE_SOLO_TO_WORK_EST_PER_CAPITA              -1.25e-05      0.000     -0.120      0.904      -0.000       0.000\n",
      "BICYCLE_BY_AUTO_COUNT_PER_CAPITA                  0.2538      0.038      6.595      0.000       0.178       0.329\n",
      "PUBTRANS_TO_WORK_EST_PER_CAPITA                   0.0032      0.001      5.497      0.000       0.002       0.004\n",
      "BIKE_TO_WORK_EST_PER_CAPITA                      -0.0039      0.002     -2.133      0.033      -0.008      -0.000\n",
      "PUBTRANS_TO_WORK_MARG_PER_CAPITA                  0.0039      0.001      3.417      0.001       0.002       0.006\n",
      "BIKE_TO_WORK_MARG_PER_CAPITA                     -0.0051      0.001     -4.310      0.000      -0.007      -0.003\n",
      "PED_SUSP_SERIOUS_INJ_BY_AUTO_COUNT_PER_CAPITA     1.2633      0.044     28.758      0.000       1.177       1.349\n",
      "STATE_CO                                      -5.046e-05   2.82e-05     -1.792      0.073      -0.000    4.76e-06\n",
      "STATE_MA                                         -0.0001   2.33e-05     -4.721      0.000      -0.000   -6.42e-05\n",
      "STATE_PA                                       9.807e-05   1.62e-05      6.071      0.000    6.64e-05       0.000\n",
      "==============================================================================\n",
      "Omnibus:                     2653.665   Durbin-Watson:                   1.971\n",
      "Prob(Omnibus):                  0.000   Jarque-Bera (JB):           344268.057\n",
      "Skew:                           5.436   Prob(JB):                         0.00\n",
      "Kurtosis:                      60.808   Cond. No.                     2.64e+15\n",
      "==============================================================================\n",
      "\n",
      "Notes:\n",
      "[1] Standard Errors assume that the covariance matrix of the errors is correctly specified.\n",
      "[2] The smallest eigenvalue is 6.63e-28. This might indicate that there are\n",
      "strong multicollinearity problems or that the design matrix is singular.\n"
     ]
    }
   ],
   "source": [
    "# Get the selected features\n",
    "selected_features2 = list(X_train2.columns[list(sfs.k_feature_idx_)])\n",
    "\n",
    "# Build a linear regression model using statsmodels with the selected features\n",
    "X_train_selected2 = X_train2[selected_features2]\n",
    "X_train_selected2 = sm.add_constant(X_train_selected2)  # Add a constant for the intercept\n",
    "model2 = sm.OLS(y_train2, X_train_selected2).fit()\n",
    "\n",
    "# Display the summary of the statsmodels linear regression model\n",
    "print(model2.summary())"
   ]
  },
  {
   "cell_type": "code",
   "execution_count": 172,
   "id": "45282ab1",
   "metadata": {},
   "outputs": [],
   "source": [
    "# Make predictions on the test data\n",
    "X_test_selected2 = X_test2[selected_features2]\n",
    "X_test_selected2 = sm.add_constant(X_test_selected2) # Add a constant term to the test data\n",
    "y_pred2 = model2.predict(X_test_selected2)"
   ]
  },
  {
   "cell_type": "markdown",
   "id": "8c56d395",
   "metadata": {},
   "source": [
    "## D. Plot the Residuals\n",
    "\n",
    "### Graph 1: The residuals for the model with 'BICYCLE_BY_AUTO_COUNT_PER_CAPITA' as the dependent variable"
   ]
  },
  {
   "cell_type": "code",
   "execution_count": 173,
   "id": "368c9cd2",
   "metadata": {},
   "outputs": [
    {
     "data": {
      "image/png": "[encoded data removed]",
      "text/plain": [
       "<Figure size 640x480 with 1 Axes>"
      ]
     },
     "metadata": {},
     "output_type": "display_data"
    }
   ],
   "source": [
    "residuals = model.resid\n",
    "\n",
    "plt.scatter(model.fittedvalues, residuals)\n",
    "plt.xlabel(\"Predicted Values\")\n",
    "plt.ylabel(\"Residuals\")\n",
    "plt.title(\"OLS Residual Plot for Cyclists\")\n",
    "plt.axhline(y=0, color='r', linestyle='-')  # Add a horizontal line at y=0\n",
    "plt.show()"
   ]
  },
  {
   "cell_type": "markdown",
   "id": "b0a50ffc",
   "metadata": {},
   "source": [
    "### Graph 2: The residuals for the model with 'PED_BY_AUTO_COUNT_PER_CAPITA' as the dependent variable"
   ]
  },
  {
   "cell_type": "code",
   "execution_count": 174,
   "id": "6afb4640",
   "metadata": {},
   "outputs": [
    {
     "data": {
      "image/png": "[encoded data removed]",
      "text/plain": [
       "<Figure size 640x480 with 1 Axes>"
      ]
     },
     "metadata": {},
     "output_type": "display_data"
    }
   ],
   "source": [
    "residuals2 = model2.resid\n",
    "\n",
    "plt.scatter(model2.fittedvalues, residuals2)\n",
    "plt.xlabel(\"Predicted Values\")\n",
    "plt.ylabel(\"Residuals\")\n",
    "plt.title(\"OLS Residual Plot for Pedestrains\")\n",
    "plt.axhline(y=0, color='r', linestyle='-')  # Add a horizontal line at y=0\n",
    "plt.show()"
   ]
  },
  {
   "cell_type": "markdown",
   "id": "a675f1e3",
   "metadata": {},
   "source": [
    "## E. Plot the Actual vs. Predicted Values\n",
    "\n",
    "### Graph 3: The Actual vs. Predicted Values for the model with 'BICYCLE_BY_AUTO_COUNT_PER_CAPITA' as the dependent variable"
   ]
  },
  {
   "cell_type": "code",
   "execution_count": 175,
   "id": "affe7c00",
   "metadata": {},
   "outputs": [
    {
     "data": {
      "image/png": "[encoded data removed]",
      "text/plain": [
       "<Figure size 640x480 with 1 Axes>"
      ]
     },
     "metadata": {},
     "output_type": "display_data"
    }
   ],
   "source": [
    "# Plot the actual vs. predicted values\n",
    "plt.scatter(y_test, y_pred)\n",
    "plt.xlabel(\"Actual Values\")\n",
    "plt.ylabel(\"Predicted Values\")\n",
    "plt.title(\"Actual vs. Predicted Values for Cyclists\")\n",
    "plt.show()"
   ]
  },
  {
   "cell_type": "markdown",
   "id": "ef06a1b0",
   "metadata": {},
   "source": [
    "### Graph 4: The Actual vs. Predicted Values for the model with 'PED_BY_AUTO_COUNT_PER_CAPITA' as the dependent variable"
   ]
  },
  {
   "cell_type": "code",
   "execution_count": 176,
   "id": "35f12863",
   "metadata": {},
   "outputs": [
    {
     "data": {
      "image/png": "[encoded data removed]",
      "text/plain": [
       "<Figure size 640x480 with 1 Axes>"
      ]
     },
     "metadata": {},
     "output_type": "display_data"
    }
   ],
   "source": [
    "# Plot the actual vs. predicted values\n",
    "plt.scatter(y_test2, y_pred2)\n",
    "plt.xlabel(\"Actual Values\")\n",
    "plt.ylabel(\"Predicted Values\")\n",
    "plt.title(\"Actual vs. Predicted Values for Pedestrians\")\n",
    "plt.show()"
   ]
  }
 ],
 "metadata": {
  "kernelspec": {
   "display_name": "Python 3 (ipykernel)",
   "language": "python",
   "name": "python3"
  },
  "language_info": {
   "codemirror_mode": {
    "name": "ipython",
    "version": 3
   },
   "file_extension": ".py",
   "mimetype": "text/x-python",
   "name": "python",
   "nbconvert_exporter": "python",
   "pygments_lexer": "ipython3",
   "version": "3.9.13"
  }
 },
 "nbformat": 4,
 "nbformat_minor": 5
}
